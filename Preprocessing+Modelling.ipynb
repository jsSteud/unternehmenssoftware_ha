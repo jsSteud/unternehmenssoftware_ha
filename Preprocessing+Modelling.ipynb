{
  "nbformat": 4,
  "nbformat_minor": 0,
  "metadata": {
    "colab": {
      "provenance": [],
      "machine_shape": "hm"
    },
    "kernelspec": {
      "name": "python3",
      "display_name": "Python 3"
    },
    "language_info": {
      "name": "python"
    },
    "accelerator": "GPU",
    "gpuClass": "standard"
  },
  "cells": [
    {
      "cell_type": "code",
      "execution_count": null,
      "metadata": {
        "id": "CPX1VkSTlQoL",
        "colab": {
          "base_uri": "https://localhost:8080/"
        },
        "outputId": "fc180bfa-92fd-4c56-ba98-5c0e3c9c286e"
      },
      "outputs": [
        {
          "output_type": "stream",
          "name": "stdout",
          "text": [
            "Your runtime has 27.3 gigabytes of available RAM\n",
            "\n",
            "You are using a high-RAM runtime!\n"
          ]
        }
      ],
      "source": [
        "from psutil import virtual_memory\n",
        "ram_gb = virtual_memory().total / 1e9\n",
        "print('Your runtime has {:.1f} gigabytes of available RAM\\n'.format(ram_gb))\n",
        "\n",
        "if ram_gb < 20:\n",
        "  print('Not using a high-RAM runtime')\n",
        "else:\n",
        "  print('You are using a high-RAM runtime!')"
      ]
    },
    {
      "cell_type": "code",
      "source": [
        "import pandas as pd "
      ],
      "metadata": {
        "id": "8QfHLuSxlvh1"
      },
      "execution_count": 30,
      "outputs": []
    },
    {
      "cell_type": "code",
      "source": [
        "cleaned_tweets = pd.read_csv('cleaned_dataset.csv',names=[\"text\"])"
      ],
      "metadata": {
        "id": "Bo919WVUtbQO"
      },
      "execution_count": 33,
      "outputs": []
    },
    {
      "cell_type": "code",
      "source": [
        "cleaned_tweets.head()"
      ],
      "metadata": {
        "colab": {
          "base_uri": "https://localhost:8080/",
          "height": 206
        },
        "id": "KUjLTTGQtmo5",
        "outputId": "455547e1-73c8-4e46-ceb6-4136fa1bed56"
      },
      "execution_count": 34,
      "outputs": [
        {
          "output_type": "execute_result",
          "data": {
            "text/plain": [
              "                                                text\n",
              "0  frankreich disasi mbappe christmas infantino f...\n",
              "1  schmuckstücke für glanzvolle zeiten die elegan...\n",
              "2                   ein trauriger abend für kingsley\n",
              "3  und sehen sich nach dem verlorenen endspiel de...\n",
              "4  kolonialisiert den westen deutlich sichtbar ke..."
            ],
            "text/html": [
              "\n",
              "  <div id=\"df-03aac7f9-4f8f-4da8-98f5-539e3d2637c5\">\n",
              "    <div class=\"colab-df-container\">\n",
              "      <div>\n",
              "<style scoped>\n",
              "    .dataframe tbody tr th:only-of-type {\n",
              "        vertical-align: middle;\n",
              "    }\n",
              "\n",
              "    .dataframe tbody tr th {\n",
              "        vertical-align: top;\n",
              "    }\n",
              "\n",
              "    .dataframe thead th {\n",
              "        text-align: right;\n",
              "    }\n",
              "</style>\n",
              "<table border=\"1\" class=\"dataframe\">\n",
              "  <thead>\n",
              "    <tr style=\"text-align: right;\">\n",
              "      <th></th>\n",
              "      <th>text</th>\n",
              "    </tr>\n",
              "  </thead>\n",
              "  <tbody>\n",
              "    <tr>\n",
              "      <th>0</th>\n",
              "      <td>frankreich disasi mbappe christmas infantino f...</td>\n",
              "    </tr>\n",
              "    <tr>\n",
              "      <th>1</th>\n",
              "      <td>schmuckstücke für glanzvolle zeiten die elegan...</td>\n",
              "    </tr>\n",
              "    <tr>\n",
              "      <th>2</th>\n",
              "      <td>ein trauriger abend für kingsley</td>\n",
              "    </tr>\n",
              "    <tr>\n",
              "      <th>3</th>\n",
              "      <td>und sehen sich nach dem verlorenen endspiel de...</td>\n",
              "    </tr>\n",
              "    <tr>\n",
              "      <th>4</th>\n",
              "      <td>kolonialisiert den westen deutlich sichtbar ke...</td>\n",
              "    </tr>\n",
              "  </tbody>\n",
              "</table>\n",
              "</div>\n",
              "      <button class=\"colab-df-convert\" onclick=\"convertToInteractive('df-03aac7f9-4f8f-4da8-98f5-539e3d2637c5')\"\n",
              "              title=\"Convert this dataframe to an interactive table.\"\n",
              "              style=\"display:none;\">\n",
              "        \n",
              "  <svg xmlns=\"http://www.w3.org/2000/svg\" height=\"24px\"viewBox=\"0 0 24 24\"\n",
              "       width=\"24px\">\n",
              "    <path d=\"M0 0h24v24H0V0z\" fill=\"none\"/>\n",
              "    <path d=\"M18.56 5.44l.94 2.06.94-2.06 2.06-.94-2.06-.94-.94-2.06-.94 2.06-2.06.94zm-11 1L8.5 8.5l.94-2.06 2.06-.94-2.06-.94L8.5 2.5l-.94 2.06-2.06.94zm10 10l.94 2.06.94-2.06 2.06-.94-2.06-.94-.94-2.06-.94 2.06-2.06.94z\"/><path d=\"M17.41 7.96l-1.37-1.37c-.4-.4-.92-.59-1.43-.59-.52 0-1.04.2-1.43.59L10.3 9.45l-7.72 7.72c-.78.78-.78 2.05 0 2.83L4 21.41c.39.39.9.59 1.41.59.51 0 1.02-.2 1.41-.59l7.78-7.78 2.81-2.81c.8-.78.8-2.07 0-2.86zM5.41 20L4 18.59l7.72-7.72 1.47 1.35L5.41 20z\"/>\n",
              "  </svg>\n",
              "      </button>\n",
              "      \n",
              "  <style>\n",
              "    .colab-df-container {\n",
              "      display:flex;\n",
              "      flex-wrap:wrap;\n",
              "      gap: 12px;\n",
              "    }\n",
              "\n",
              "    .colab-df-convert {\n",
              "      background-color: #E8F0FE;\n",
              "      border: none;\n",
              "      border-radius: 50%;\n",
              "      cursor: pointer;\n",
              "      display: none;\n",
              "      fill: #1967D2;\n",
              "      height: 32px;\n",
              "      padding: 0 0 0 0;\n",
              "      width: 32px;\n",
              "    }\n",
              "\n",
              "    .colab-df-convert:hover {\n",
              "      background-color: #E2EBFA;\n",
              "      box-shadow: 0px 1px 2px rgba(60, 64, 67, 0.3), 0px 1px 3px 1px rgba(60, 64, 67, 0.15);\n",
              "      fill: #174EA6;\n",
              "    }\n",
              "\n",
              "    [theme=dark] .colab-df-convert {\n",
              "      background-color: #3B4455;\n",
              "      fill: #D2E3FC;\n",
              "    }\n",
              "\n",
              "    [theme=dark] .colab-df-convert:hover {\n",
              "      background-color: #434B5C;\n",
              "      box-shadow: 0px 1px 3px 1px rgba(0, 0, 0, 0.15);\n",
              "      filter: drop-shadow(0px 1px 2px rgba(0, 0, 0, 0.3));\n",
              "      fill: #FFFFFF;\n",
              "    }\n",
              "  </style>\n",
              "\n",
              "      <script>\n",
              "        const buttonEl =\n",
              "          document.querySelector('#df-03aac7f9-4f8f-4da8-98f5-539e3d2637c5 button.colab-df-convert');\n",
              "        buttonEl.style.display =\n",
              "          google.colab.kernel.accessAllowed ? 'block' : 'none';\n",
              "\n",
              "        async function convertToInteractive(key) {\n",
              "          const element = document.querySelector('#df-03aac7f9-4f8f-4da8-98f5-539e3d2637c5');\n",
              "          const dataTable =\n",
              "            await google.colab.kernel.invokeFunction('convertToInteractive',\n",
              "                                                     [key], {});\n",
              "          if (!dataTable) return;\n",
              "\n",
              "          const docLinkHtml = 'Like what you see? Visit the ' +\n",
              "            '<a target=\"_blank\" href=https://colab.research.google.com/notebooks/data_table.ipynb>data table notebook</a>'\n",
              "            + ' to learn more about interactive tables.';\n",
              "          element.innerHTML = '';\n",
              "          dataTable['output_type'] = 'display_data';\n",
              "          await google.colab.output.renderOutput(dataTable, element);\n",
              "          const docLink = document.createElement('div');\n",
              "          docLink.innerHTML = docLinkHtml;\n",
              "          element.appendChild(docLink);\n",
              "        }\n",
              "      </script>\n",
              "    </div>\n",
              "  </div>\n",
              "  "
            ]
          },
          "metadata": {},
          "execution_count": 34
        }
      ]
    },
    {
      "cell_type": "code",
      "source": [
        "cleaned_tweets = cleaned_tweets[cleaned_tweets['text'].notnull()]"
      ],
      "metadata": {
        "id": "dWLbdwLRpkby"
      },
      "execution_count": 35,
      "outputs": []
    },
    {
      "cell_type": "markdown",
      "source": [],
      "metadata": {
        "id": "OQxdwlsb1Ehy"
      }
    },
    {
      "cell_type": "code",
      "source": [
        "pip install nltk"
      ],
      "metadata": {
        "id": "025qrb9ina5W",
        "colab": {
          "base_uri": "https://localhost:8080/"
        },
        "outputId": "4eed4174-65d3-4a46-a377-e0be803322f9"
      },
      "execution_count": 36,
      "outputs": [
        {
          "output_type": "stream",
          "name": "stdout",
          "text": [
            "Looking in indexes: https://pypi.org/simple, https://us-python.pkg.dev/colab-wheels/public/simple/\n",
            "Requirement already satisfied: nltk in /usr/local/lib/python3.8/dist-packages (3.7)\n",
            "Requirement already satisfied: joblib in /usr/local/lib/python3.8/dist-packages (from nltk) (1.2.0)\n",
            "Requirement already satisfied: regex>=2021.8.3 in /usr/local/lib/python3.8/dist-packages (from nltk) (2022.6.2)\n",
            "Requirement already satisfied: tqdm in /usr/local/lib/python3.8/dist-packages (from nltk) (4.64.1)\n",
            "Requirement already satisfied: click in /usr/local/lib/python3.8/dist-packages (from nltk) (7.1.2)\n"
          ]
        }
      ]
    },
    {
      "cell_type": "code",
      "source": [
        "import nltk"
      ],
      "metadata": {
        "id": "n85_dGWZoQNY"
      },
      "execution_count": 13,
      "outputs": []
    },
    {
      "cell_type": "code",
      "source": [
        "from nltk.corpus import stopwords"
      ],
      "metadata": {
        "id": "necYG0HCmzAI"
      },
      "execution_count": 18,
      "outputs": []
    },
    {
      "cell_type": "code",
      "source": [
        "nltk.download('stopwords')"
      ],
      "metadata": {
        "id": "eII8ikO1oNMJ",
        "colab": {
          "base_uri": "https://localhost:8080/"
        },
        "outputId": "4da2efc9-c977-4ce7-da1a-b9fc86deac30"
      },
      "execution_count": 19,
      "outputs": [
        {
          "output_type": "stream",
          "name": "stderr",
          "text": [
            "[nltk_data] Downloading package stopwords to /root/nltk_data...\n",
            "[nltk_data]   Unzipping corpora/stopwords.zip.\n"
          ]
        },
        {
          "output_type": "execute_result",
          "data": {
            "text/plain": [
              "True"
            ]
          },
          "metadata": {},
          "execution_count": 19
        }
      ]
    },
    {
      "cell_type": "code",
      "source": [
        "from sklearn.feature_extraction.text import CountVectorizer\n",
        "german_stop_words = stopwords.words('german')"
      ],
      "metadata": {
        "id": "5SeLnBCHnSvi"
      },
      "execution_count": 20,
      "outputs": []
    },
    {
      "cell_type": "code",
      "source": [
        "\n",
        "def summary(df, col):\n",
        "    df['word_count'] =  df[col].apply(lambda x: len(x.split()))\n",
        "    df['char_count'] = df[col].apply(lambda x : len(x))\n",
        "    def average_word(x):\n",
        "        words = x.split()\n",
        "        return sum(len(word) for word in words) / len(words)\n",
        "    df['average_word_length'] = df[col].apply(lambda x: average_word(x))\n",
        "    df['stopword_count'] = df[col].apply(lambda x: len([word for word in x.split() if word.lower() in german_stop_words])) \n",
        "    df['stopword_rate'] = df.stopword_count / df.word_count\n",
        "    return df"
      ],
      "metadata": {
        "id": "C8KBPknTnmFY"
      },
      "execution_count": 21,
      "outputs": []
    },
    {
      "cell_type": "code",
      "source": [
        "def plot_countplot(df, feature):\n",
        "    ax = df[feature].value_counts().sort_index().plot(kind='bar')\n",
        "    return ax"
      ],
      "metadata": {
        "id": "Rmnahb3lodQS"
      },
      "execution_count": 22,
      "outputs": []
    },
    {
      "cell_type": "code",
      "source": [
        "tweets = summary(cleaned_tweets, 'text')\n"
      ],
      "metadata": {
        "id": "E9I4atWDop6Z"
      },
      "execution_count": 37,
      "outputs": []
    },
    {
      "cell_type": "code",
      "source": [
        "mask = tweets[tweets.text.str.contains('var researchConfig')].index\n",
        "tweets = tweets.drop(mask, axis=0)\n",
        "tweets.sort_values(by='stopword_count').head()"
      ],
      "metadata": {
        "id": "l2is8MhXo61H",
        "colab": {
          "base_uri": "https://localhost:8080/",
          "height": 478
        },
        "outputId": "e4bc4274-e327-410f-8bc7-e111a32a5b34"
      },
      "execution_count": 38,
      "outputs": [
        {
          "output_type": "execute_result",
          "data": {
            "text/plain": [
              "                                                   text  word_count  \\\n",
              "0     frankreich disasi mbappe christmas infantino f...          17   \n",
              "4513                                     we boycott the           3   \n",
              "4520                                          natürlich           1   \n",
              "2721                                  no go if its true           5   \n",
              "2720                delays qatar world cup decision via           6   \n",
              "\n",
              "      char_count  average_word_length  stopword_count  stopword_rate  \n",
              "0            120             6.117647               0            0.0  \n",
              "4513          14             4.000000               0            0.0  \n",
              "4520           9             9.000000               0            0.0  \n",
              "2721          17             2.600000               0            0.0  \n",
              "2720          35             5.000000               0            0.0  "
            ],
            "text/html": [
              "\n",
              "  <div id=\"df-bdd1dc4d-c340-4e1f-83e4-d3a6f6431c00\">\n",
              "    <div class=\"colab-df-container\">\n",
              "      <div>\n",
              "<style scoped>\n",
              "    .dataframe tbody tr th:only-of-type {\n",
              "        vertical-align: middle;\n",
              "    }\n",
              "\n",
              "    .dataframe tbody tr th {\n",
              "        vertical-align: top;\n",
              "    }\n",
              "\n",
              "    .dataframe thead th {\n",
              "        text-align: right;\n",
              "    }\n",
              "</style>\n",
              "<table border=\"1\" class=\"dataframe\">\n",
              "  <thead>\n",
              "    <tr style=\"text-align: right;\">\n",
              "      <th></th>\n",
              "      <th>text</th>\n",
              "      <th>word_count</th>\n",
              "      <th>char_count</th>\n",
              "      <th>average_word_length</th>\n",
              "      <th>stopword_count</th>\n",
              "      <th>stopword_rate</th>\n",
              "    </tr>\n",
              "  </thead>\n",
              "  <tbody>\n",
              "    <tr>\n",
              "      <th>0</th>\n",
              "      <td>frankreich disasi mbappe christmas infantino f...</td>\n",
              "      <td>17</td>\n",
              "      <td>120</td>\n",
              "      <td>6.117647</td>\n",
              "      <td>0</td>\n",
              "      <td>0.0</td>\n",
              "    </tr>\n",
              "    <tr>\n",
              "      <th>4513</th>\n",
              "      <td>we boycott the</td>\n",
              "      <td>3</td>\n",
              "      <td>14</td>\n",
              "      <td>4.000000</td>\n",
              "      <td>0</td>\n",
              "      <td>0.0</td>\n",
              "    </tr>\n",
              "    <tr>\n",
              "      <th>4520</th>\n",
              "      <td>natürlich</td>\n",
              "      <td>1</td>\n",
              "      <td>9</td>\n",
              "      <td>9.000000</td>\n",
              "      <td>0</td>\n",
              "      <td>0.0</td>\n",
              "    </tr>\n",
              "    <tr>\n",
              "      <th>2721</th>\n",
              "      <td>no go if its true</td>\n",
              "      <td>5</td>\n",
              "      <td>17</td>\n",
              "      <td>2.600000</td>\n",
              "      <td>0</td>\n",
              "      <td>0.0</td>\n",
              "    </tr>\n",
              "    <tr>\n",
              "      <th>2720</th>\n",
              "      <td>delays qatar world cup decision via</td>\n",
              "      <td>6</td>\n",
              "      <td>35</td>\n",
              "      <td>5.000000</td>\n",
              "      <td>0</td>\n",
              "      <td>0.0</td>\n",
              "    </tr>\n",
              "  </tbody>\n",
              "</table>\n",
              "</div>\n",
              "      <button class=\"colab-df-convert\" onclick=\"convertToInteractive('df-bdd1dc4d-c340-4e1f-83e4-d3a6f6431c00')\"\n",
              "              title=\"Convert this dataframe to an interactive table.\"\n",
              "              style=\"display:none;\">\n",
              "        \n",
              "  <svg xmlns=\"http://www.w3.org/2000/svg\" height=\"24px\"viewBox=\"0 0 24 24\"\n",
              "       width=\"24px\">\n",
              "    <path d=\"M0 0h24v24H0V0z\" fill=\"none\"/>\n",
              "    <path d=\"M18.56 5.44l.94 2.06.94-2.06 2.06-.94-2.06-.94-.94-2.06-.94 2.06-2.06.94zm-11 1L8.5 8.5l.94-2.06 2.06-.94-2.06-.94L8.5 2.5l-.94 2.06-2.06.94zm10 10l.94 2.06.94-2.06 2.06-.94-2.06-.94-.94-2.06-.94 2.06-2.06.94z\"/><path d=\"M17.41 7.96l-1.37-1.37c-.4-.4-.92-.59-1.43-.59-.52 0-1.04.2-1.43.59L10.3 9.45l-7.72 7.72c-.78.78-.78 2.05 0 2.83L4 21.41c.39.39.9.59 1.41.59.51 0 1.02-.2 1.41-.59l7.78-7.78 2.81-2.81c.8-.78.8-2.07 0-2.86zM5.41 20L4 18.59l7.72-7.72 1.47 1.35L5.41 20z\"/>\n",
              "  </svg>\n",
              "      </button>\n",
              "      \n",
              "  <style>\n",
              "    .colab-df-container {\n",
              "      display:flex;\n",
              "      flex-wrap:wrap;\n",
              "      gap: 12px;\n",
              "    }\n",
              "\n",
              "    .colab-df-convert {\n",
              "      background-color: #E8F0FE;\n",
              "      border: none;\n",
              "      border-radius: 50%;\n",
              "      cursor: pointer;\n",
              "      display: none;\n",
              "      fill: #1967D2;\n",
              "      height: 32px;\n",
              "      padding: 0 0 0 0;\n",
              "      width: 32px;\n",
              "    }\n",
              "\n",
              "    .colab-df-convert:hover {\n",
              "      background-color: #E2EBFA;\n",
              "      box-shadow: 0px 1px 2px rgba(60, 64, 67, 0.3), 0px 1px 3px 1px rgba(60, 64, 67, 0.15);\n",
              "      fill: #174EA6;\n",
              "    }\n",
              "\n",
              "    [theme=dark] .colab-df-convert {\n",
              "      background-color: #3B4455;\n",
              "      fill: #D2E3FC;\n",
              "    }\n",
              "\n",
              "    [theme=dark] .colab-df-convert:hover {\n",
              "      background-color: #434B5C;\n",
              "      box-shadow: 0px 1px 3px 1px rgba(0, 0, 0, 0.15);\n",
              "      filter: drop-shadow(0px 1px 2px rgba(0, 0, 0, 0.3));\n",
              "      fill: #FFFFFF;\n",
              "    }\n",
              "  </style>\n",
              "\n",
              "      <script>\n",
              "        const buttonEl =\n",
              "          document.querySelector('#df-bdd1dc4d-c340-4e1f-83e4-d3a6f6431c00 button.colab-df-convert');\n",
              "        buttonEl.style.display =\n",
              "          google.colab.kernel.accessAllowed ? 'block' : 'none';\n",
              "\n",
              "        async function convertToInteractive(key) {\n",
              "          const element = document.querySelector('#df-bdd1dc4d-c340-4e1f-83e4-d3a6f6431c00');\n",
              "          const dataTable =\n",
              "            await google.colab.kernel.invokeFunction('convertToInteractive',\n",
              "                                                     [key], {});\n",
              "          if (!dataTable) return;\n",
              "\n",
              "          const docLinkHtml = 'Like what you see? Visit the ' +\n",
              "            '<a target=\"_blank\" href=https://colab.research.google.com/notebooks/data_table.ipynb>data table notebook</a>'\n",
              "            + ' to learn more about interactive tables.';\n",
              "          element.innerHTML = '';\n",
              "          dataTable['output_type'] = 'display_data';\n",
              "          await google.colab.output.renderOutput(dataTable, element);\n",
              "          const docLink = document.createElement('div');\n",
              "          docLink.innerHTML = docLinkHtml;\n",
              "          element.appendChild(docLink);\n",
              "        }\n",
              "      </script>\n",
              "    </div>\n",
              "  </div>\n",
              "  "
            ]
          },
          "metadata": {},
          "execution_count": 38
        }
      ]
    },
    {
      "cell_type": "code",
      "source": [
        "tweets.describe()"
      ],
      "metadata": {
        "id": "MTGXMKmsp_1n",
        "colab": {
          "base_uri": "https://localhost:8080/",
          "height": 300
        },
        "outputId": "f1a3eade-a658-441f-f045-074bbdf96c94"
      },
      "execution_count": 39,
      "outputs": [
        {
          "output_type": "execute_result",
          "data": {
            "text/plain": [
              "        word_count   char_count  average_word_length  stopword_count  \\\n",
              "count  6165.000000  6165.000000          6165.000000     6165.000000   \n",
              "mean     15.584266    96.770479             5.360789        6.821573   \n",
              "std       9.274086    57.879146             1.173709        5.144311   \n",
              "min       1.000000     1.000000             1.000000        0.000000   \n",
              "25%       9.000000    53.000000             4.666667        3.000000   \n",
              "50%      13.000000    84.000000             5.235294        6.000000   \n",
              "75%      20.000000   125.000000             5.866667       10.000000   \n",
              "max      51.000000   270.000000            24.333333       34.000000   \n",
              "\n",
              "       stopword_rate  \n",
              "count    6165.000000  \n",
              "mean        0.419424  \n",
              "std         0.184497  \n",
              "min         0.000000  \n",
              "25%         0.333333  \n",
              "50%         0.451613  \n",
              "75%         0.538462  \n",
              "max         1.000000  "
            ],
            "text/html": [
              "\n",
              "  <div id=\"df-55224ba3-1e82-4dd5-b7cb-268453456bc0\">\n",
              "    <div class=\"colab-df-container\">\n",
              "      <div>\n",
              "<style scoped>\n",
              "    .dataframe tbody tr th:only-of-type {\n",
              "        vertical-align: middle;\n",
              "    }\n",
              "\n",
              "    .dataframe tbody tr th {\n",
              "        vertical-align: top;\n",
              "    }\n",
              "\n",
              "    .dataframe thead th {\n",
              "        text-align: right;\n",
              "    }\n",
              "</style>\n",
              "<table border=\"1\" class=\"dataframe\">\n",
              "  <thead>\n",
              "    <tr style=\"text-align: right;\">\n",
              "      <th></th>\n",
              "      <th>word_count</th>\n",
              "      <th>char_count</th>\n",
              "      <th>average_word_length</th>\n",
              "      <th>stopword_count</th>\n",
              "      <th>stopword_rate</th>\n",
              "    </tr>\n",
              "  </thead>\n",
              "  <tbody>\n",
              "    <tr>\n",
              "      <th>count</th>\n",
              "      <td>6165.000000</td>\n",
              "      <td>6165.000000</td>\n",
              "      <td>6165.000000</td>\n",
              "      <td>6165.000000</td>\n",
              "      <td>6165.000000</td>\n",
              "    </tr>\n",
              "    <tr>\n",
              "      <th>mean</th>\n",
              "      <td>15.584266</td>\n",
              "      <td>96.770479</td>\n",
              "      <td>5.360789</td>\n",
              "      <td>6.821573</td>\n",
              "      <td>0.419424</td>\n",
              "    </tr>\n",
              "    <tr>\n",
              "      <th>std</th>\n",
              "      <td>9.274086</td>\n",
              "      <td>57.879146</td>\n",
              "      <td>1.173709</td>\n",
              "      <td>5.144311</td>\n",
              "      <td>0.184497</td>\n",
              "    </tr>\n",
              "    <tr>\n",
              "      <th>min</th>\n",
              "      <td>1.000000</td>\n",
              "      <td>1.000000</td>\n",
              "      <td>1.000000</td>\n",
              "      <td>0.000000</td>\n",
              "      <td>0.000000</td>\n",
              "    </tr>\n",
              "    <tr>\n",
              "      <th>25%</th>\n",
              "      <td>9.000000</td>\n",
              "      <td>53.000000</td>\n",
              "      <td>4.666667</td>\n",
              "      <td>3.000000</td>\n",
              "      <td>0.333333</td>\n",
              "    </tr>\n",
              "    <tr>\n",
              "      <th>50%</th>\n",
              "      <td>13.000000</td>\n",
              "      <td>84.000000</td>\n",
              "      <td>5.235294</td>\n",
              "      <td>6.000000</td>\n",
              "      <td>0.451613</td>\n",
              "    </tr>\n",
              "    <tr>\n",
              "      <th>75%</th>\n",
              "      <td>20.000000</td>\n",
              "      <td>125.000000</td>\n",
              "      <td>5.866667</td>\n",
              "      <td>10.000000</td>\n",
              "      <td>0.538462</td>\n",
              "    </tr>\n",
              "    <tr>\n",
              "      <th>max</th>\n",
              "      <td>51.000000</td>\n",
              "      <td>270.000000</td>\n",
              "      <td>24.333333</td>\n",
              "      <td>34.000000</td>\n",
              "      <td>1.000000</td>\n",
              "    </tr>\n",
              "  </tbody>\n",
              "</table>\n",
              "</div>\n",
              "      <button class=\"colab-df-convert\" onclick=\"convertToInteractive('df-55224ba3-1e82-4dd5-b7cb-268453456bc0')\"\n",
              "              title=\"Convert this dataframe to an interactive table.\"\n",
              "              style=\"display:none;\">\n",
              "        \n",
              "  <svg xmlns=\"http://www.w3.org/2000/svg\" height=\"24px\"viewBox=\"0 0 24 24\"\n",
              "       width=\"24px\">\n",
              "    <path d=\"M0 0h24v24H0V0z\" fill=\"none\"/>\n",
              "    <path d=\"M18.56 5.44l.94 2.06.94-2.06 2.06-.94-2.06-.94-.94-2.06-.94 2.06-2.06.94zm-11 1L8.5 8.5l.94-2.06 2.06-.94-2.06-.94L8.5 2.5l-.94 2.06-2.06.94zm10 10l.94 2.06.94-2.06 2.06-.94-2.06-.94-.94-2.06-.94 2.06-2.06.94z\"/><path d=\"M17.41 7.96l-1.37-1.37c-.4-.4-.92-.59-1.43-.59-.52 0-1.04.2-1.43.59L10.3 9.45l-7.72 7.72c-.78.78-.78 2.05 0 2.83L4 21.41c.39.39.9.59 1.41.59.51 0 1.02-.2 1.41-.59l7.78-7.78 2.81-2.81c.8-.78.8-2.07 0-2.86zM5.41 20L4 18.59l7.72-7.72 1.47 1.35L5.41 20z\"/>\n",
              "  </svg>\n",
              "      </button>\n",
              "      \n",
              "  <style>\n",
              "    .colab-df-container {\n",
              "      display:flex;\n",
              "      flex-wrap:wrap;\n",
              "      gap: 12px;\n",
              "    }\n",
              "\n",
              "    .colab-df-convert {\n",
              "      background-color: #E8F0FE;\n",
              "      border: none;\n",
              "      border-radius: 50%;\n",
              "      cursor: pointer;\n",
              "      display: none;\n",
              "      fill: #1967D2;\n",
              "      height: 32px;\n",
              "      padding: 0 0 0 0;\n",
              "      width: 32px;\n",
              "    }\n",
              "\n",
              "    .colab-df-convert:hover {\n",
              "      background-color: #E2EBFA;\n",
              "      box-shadow: 0px 1px 2px rgba(60, 64, 67, 0.3), 0px 1px 3px 1px rgba(60, 64, 67, 0.15);\n",
              "      fill: #174EA6;\n",
              "    }\n",
              "\n",
              "    [theme=dark] .colab-df-convert {\n",
              "      background-color: #3B4455;\n",
              "      fill: #D2E3FC;\n",
              "    }\n",
              "\n",
              "    [theme=dark] .colab-df-convert:hover {\n",
              "      background-color: #434B5C;\n",
              "      box-shadow: 0px 1px 3px 1px rgba(0, 0, 0, 0.15);\n",
              "      filter: drop-shadow(0px 1px 2px rgba(0, 0, 0, 0.3));\n",
              "      fill: #FFFFFF;\n",
              "    }\n",
              "  </style>\n",
              "\n",
              "      <script>\n",
              "        const buttonEl =\n",
              "          document.querySelector('#df-55224ba3-1e82-4dd5-b7cb-268453456bc0 button.colab-df-convert');\n",
              "        buttonEl.style.display =\n",
              "          google.colab.kernel.accessAllowed ? 'block' : 'none';\n",
              "\n",
              "        async function convertToInteractive(key) {\n",
              "          const element = document.querySelector('#df-55224ba3-1e82-4dd5-b7cb-268453456bc0');\n",
              "          const dataTable =\n",
              "            await google.colab.kernel.invokeFunction('convertToInteractive',\n",
              "                                                     [key], {});\n",
              "          if (!dataTable) return;\n",
              "\n",
              "          const docLinkHtml = 'Like what you see? Visit the ' +\n",
              "            '<a target=\"_blank\" href=https://colab.research.google.com/notebooks/data_table.ipynb>data table notebook</a>'\n",
              "            + ' to learn more about interactive tables.';\n",
              "          element.innerHTML = '';\n",
              "          dataTable['output_type'] = 'display_data';\n",
              "          await google.colab.output.renderOutput(dataTable, element);\n",
              "          const docLink = document.createElement('div');\n",
              "          docLink.innerHTML = docLinkHtml;\n",
              "          element.appendChild(docLink);\n",
              "        }\n",
              "      </script>\n",
              "    </div>\n",
              "  </div>\n",
              "  "
            ]
          },
          "metadata": {},
          "execution_count": 39
        }
      ]
    },
    {
      "cell_type": "code",
      "source": [
        "def createWordCloud(df, column):\n",
        "    text = df[column].tolist()\n",
        "    joined_text = \" \".join(text)\n",
        "    cloud = WordCloud(background_color=\"white\").generate(joined_text)\n",
        "    \n",
        "    return cloud\n"
      ],
      "metadata": {
        "id": "CiG016pHqN4j"
      },
      "execution_count": 23,
      "outputs": []
    },
    {
      "cell_type": "code",
      "source": [
        "pip install langdetect"
      ],
      "metadata": {
        "id": "d-nfxpRv8_2T",
        "colab": {
          "base_uri": "https://localhost:8080/"
        },
        "outputId": "3dd15a2d-d5db-4cd5-f3f9-55d16b373843"
      },
      "execution_count": 40,
      "outputs": [
        {
          "output_type": "stream",
          "name": "stdout",
          "text": [
            "Looking in indexes: https://pypi.org/simple, https://us-python.pkg.dev/colab-wheels/public/simple/\n",
            "Collecting langdetect\n",
            "  Downloading langdetect-1.0.9.tar.gz (981 kB)\n",
            "\u001b[2K     \u001b[90m━━━━━━━━━━━━━━━━━━━━━━━━━━━━━━━━━━━━━━\u001b[0m \u001b[32m981.5/981.5 KB\u001b[0m \u001b[31m41.3 MB/s\u001b[0m eta \u001b[36m0:00:00\u001b[0m\n",
            "\u001b[?25h  Preparing metadata (setup.py) ... \u001b[?25l\u001b[?25hdone\n",
            "Requirement already satisfied: six in /usr/local/lib/python3.8/dist-packages (from langdetect) (1.15.0)\n",
            "Building wheels for collected packages: langdetect\n",
            "  Building wheel for langdetect (setup.py) ... \u001b[?25l\u001b[?25hdone\n",
            "  Created wheel for langdetect: filename=langdetect-1.0.9-py3-none-any.whl size=993242 sha256=6913f12d952c00b517c523f1414dd6c5a261680ee24ad2915d69969a9ecc4da3\n",
            "  Stored in directory: /root/.cache/pip/wheels/13/c7/b0/79f66658626032e78fc1a83103690ef6797d551cb22e56e734\n",
            "Successfully built langdetect\n",
            "Installing collected packages: langdetect\n",
            "Successfully installed langdetect-1.0.9\n"
          ]
        }
      ]
    },
    {
      "cell_type": "code",
      "source": [
        "\n",
        "import os\n",
        "import pandas as pd\n",
        "from langdetect import detect_langs\n",
        "from langdetect import detect_langs, LangDetectException\n",
        "import numpy as np\n",
        "# consisten results for language detection\n",
        "from langdetect import DetectorFactory\n",
        "DetectorFactory.seed = 0"
      ],
      "metadata": {
        "id": "fXMkGtG588qo"
      },
      "execution_count": 41,
      "outputs": []
    },
    {
      "cell_type": "code",
      "source": [
        "# Detect text language\n",
        "def detect_languages(df: pd.DataFrame, column: str) -> pd.Series:\n",
        "    def detect_language(text: str) -> str:\n",
        "        try:\n",
        "            language = detect_langs(text)\n",
        "        except LangDetectException as e:\n",
        "            return \"unknown\"\n",
        "        else:\n",
        "            return language[0].lang\n",
        "    return df[column].apply(detect_language)"
      ],
      "metadata": {
        "id": "yfPAJ9vr9Iav"
      },
      "execution_count": 42,
      "outputs": []
    },
    {
      "cell_type": "markdown",
      "source": [],
      "metadata": {
        "id": "EHObfS-8uUZB"
      }
    },
    {
      "cell_type": "code",
      "source": [
        "language_series = detect_languages(cleaned_tweets,'text')\n"
      ],
      "metadata": {
        "id": "bkI8Dc4o7wSX"
      },
      "execution_count": 49,
      "outputs": []
    },
    {
      "cell_type": "code",
      "source": [
        "cleaned_tweets['language'] = language_series\n"
      ],
      "metadata": {
        "id": "gfE2xAgS8H0q"
      },
      "execution_count": 50,
      "outputs": []
    },
    {
      "cell_type": "code",
      "source": [
        "cleaned_tweets.head(10)"
      ],
      "metadata": {
        "id": "zDCIUnTO9cR4",
        "colab": {
          "base_uri": "https://localhost:8080/",
          "height": 948
        },
        "outputId": "e8f7beb2-0237-48c4-bf16-b67cafcbd375"
      },
      "execution_count": 51,
      "outputs": [
        {
          "output_type": "execute_result",
          "data": {
            "text/plain": [
              "                                                text  word_count  char_count  \\\n",
              "0  frankreich disasi mbappe christmas infantino f...          17         120   \n",
              "1  schmuckstücke für glanzvolle zeiten die elegan...           9          74   \n",
              "2                   ein trauriger abend für kingsley           5          32   \n",
              "3  und sehen sich nach dem verlorenen endspiel de...          11          85   \n",
              "4  kolonialisiert den westen deutlich sichtbar ke...          31         220   \n",
              "5  was forced to wear an islamic garment in his b...          39         202   \n",
              "6  müde und erschöpft zurück in deutschland aber ...          41         258   \n",
              "7  so haben borna sosa und seine kroaten wmplatz ...          12          69   \n",
              "8         wer hat eigentlich die drüben auf gewonnen           7          42   \n",
              "9                            bei der geburt getrennt           4          23   \n",
              "\n",
              "   average_word_length  stopword_count  stopword_rate language  \n",
              "0             6.117647               0       0.000000       no  \n",
              "1             7.333333               3       0.333333       de  \n",
              "2             5.600000               2       0.400000       de  \n",
              "3             6.818182               5       0.454545       de  \n",
              "4             6.129032              13       0.419355       de  \n",
              "5             4.205128               4       0.102564       en  \n",
              "6             5.317073              19       0.463415       de  \n",
              "7             4.833333               5       0.416667       de  \n",
              "8             5.142857               3       0.428571       de  \n",
              "9             5.000000               2       0.500000       de  "
            ],
            "text/html": [
              "\n",
              "  <div id=\"df-fb09812b-1b45-44c8-b3c8-fab4a75bfc63\">\n",
              "    <div class=\"colab-df-container\">\n",
              "      <div>\n",
              "<style scoped>\n",
              "    .dataframe tbody tr th:only-of-type {\n",
              "        vertical-align: middle;\n",
              "    }\n",
              "\n",
              "    .dataframe tbody tr th {\n",
              "        vertical-align: top;\n",
              "    }\n",
              "\n",
              "    .dataframe thead th {\n",
              "        text-align: right;\n",
              "    }\n",
              "</style>\n",
              "<table border=\"1\" class=\"dataframe\">\n",
              "  <thead>\n",
              "    <tr style=\"text-align: right;\">\n",
              "      <th></th>\n",
              "      <th>text</th>\n",
              "      <th>word_count</th>\n",
              "      <th>char_count</th>\n",
              "      <th>average_word_length</th>\n",
              "      <th>stopword_count</th>\n",
              "      <th>stopword_rate</th>\n",
              "      <th>language</th>\n",
              "    </tr>\n",
              "  </thead>\n",
              "  <tbody>\n",
              "    <tr>\n",
              "      <th>0</th>\n",
              "      <td>frankreich disasi mbappe christmas infantino f...</td>\n",
              "      <td>17</td>\n",
              "      <td>120</td>\n",
              "      <td>6.117647</td>\n",
              "      <td>0</td>\n",
              "      <td>0.000000</td>\n",
              "      <td>no</td>\n",
              "    </tr>\n",
              "    <tr>\n",
              "      <th>1</th>\n",
              "      <td>schmuckstücke für glanzvolle zeiten die elegan...</td>\n",
              "      <td>9</td>\n",
              "      <td>74</td>\n",
              "      <td>7.333333</td>\n",
              "      <td>3</td>\n",
              "      <td>0.333333</td>\n",
              "      <td>de</td>\n",
              "    </tr>\n",
              "    <tr>\n",
              "      <th>2</th>\n",
              "      <td>ein trauriger abend für kingsley</td>\n",
              "      <td>5</td>\n",
              "      <td>32</td>\n",
              "      <td>5.600000</td>\n",
              "      <td>2</td>\n",
              "      <td>0.400000</td>\n",
              "      <td>de</td>\n",
              "    </tr>\n",
              "    <tr>\n",
              "      <th>3</th>\n",
              "      <td>und sehen sich nach dem verlorenen endspiel de...</td>\n",
              "      <td>11</td>\n",
              "      <td>85</td>\n",
              "      <td>6.818182</td>\n",
              "      <td>5</td>\n",
              "      <td>0.454545</td>\n",
              "      <td>de</td>\n",
              "    </tr>\n",
              "    <tr>\n",
              "      <th>4</th>\n",
              "      <td>kolonialisiert den westen deutlich sichtbar ke...</td>\n",
              "      <td>31</td>\n",
              "      <td>220</td>\n",
              "      <td>6.129032</td>\n",
              "      <td>13</td>\n",
              "      <td>0.419355</td>\n",
              "      <td>de</td>\n",
              "    </tr>\n",
              "    <tr>\n",
              "      <th>5</th>\n",
              "      <td>was forced to wear an islamic garment in his b...</td>\n",
              "      <td>39</td>\n",
              "      <td>202</td>\n",
              "      <td>4.205128</td>\n",
              "      <td>4</td>\n",
              "      <td>0.102564</td>\n",
              "      <td>en</td>\n",
              "    </tr>\n",
              "    <tr>\n",
              "      <th>6</th>\n",
              "      <td>müde und erschöpft zurück in deutschland aber ...</td>\n",
              "      <td>41</td>\n",
              "      <td>258</td>\n",
              "      <td>5.317073</td>\n",
              "      <td>19</td>\n",
              "      <td>0.463415</td>\n",
              "      <td>de</td>\n",
              "    </tr>\n",
              "    <tr>\n",
              "      <th>7</th>\n",
              "      <td>so haben borna sosa und seine kroaten wmplatz ...</td>\n",
              "      <td>12</td>\n",
              "      <td>69</td>\n",
              "      <td>4.833333</td>\n",
              "      <td>5</td>\n",
              "      <td>0.416667</td>\n",
              "      <td>de</td>\n",
              "    </tr>\n",
              "    <tr>\n",
              "      <th>8</th>\n",
              "      <td>wer hat eigentlich die drüben auf gewonnen</td>\n",
              "      <td>7</td>\n",
              "      <td>42</td>\n",
              "      <td>5.142857</td>\n",
              "      <td>3</td>\n",
              "      <td>0.428571</td>\n",
              "      <td>de</td>\n",
              "    </tr>\n",
              "    <tr>\n",
              "      <th>9</th>\n",
              "      <td>bei der geburt getrennt</td>\n",
              "      <td>4</td>\n",
              "      <td>23</td>\n",
              "      <td>5.000000</td>\n",
              "      <td>2</td>\n",
              "      <td>0.500000</td>\n",
              "      <td>de</td>\n",
              "    </tr>\n",
              "  </tbody>\n",
              "</table>\n",
              "</div>\n",
              "      <button class=\"colab-df-convert\" onclick=\"convertToInteractive('df-fb09812b-1b45-44c8-b3c8-fab4a75bfc63')\"\n",
              "              title=\"Convert this dataframe to an interactive table.\"\n",
              "              style=\"display:none;\">\n",
              "        \n",
              "  <svg xmlns=\"http://www.w3.org/2000/svg\" height=\"24px\"viewBox=\"0 0 24 24\"\n",
              "       width=\"24px\">\n",
              "    <path d=\"M0 0h24v24H0V0z\" fill=\"none\"/>\n",
              "    <path d=\"M18.56 5.44l.94 2.06.94-2.06 2.06-.94-2.06-.94-.94-2.06-.94 2.06-2.06.94zm-11 1L8.5 8.5l.94-2.06 2.06-.94-2.06-.94L8.5 2.5l-.94 2.06-2.06.94zm10 10l.94 2.06.94-2.06 2.06-.94-2.06-.94-.94-2.06-.94 2.06-2.06.94z\"/><path d=\"M17.41 7.96l-1.37-1.37c-.4-.4-.92-.59-1.43-.59-.52 0-1.04.2-1.43.59L10.3 9.45l-7.72 7.72c-.78.78-.78 2.05 0 2.83L4 21.41c.39.39.9.59 1.41.59.51 0 1.02-.2 1.41-.59l7.78-7.78 2.81-2.81c.8-.78.8-2.07 0-2.86zM5.41 20L4 18.59l7.72-7.72 1.47 1.35L5.41 20z\"/>\n",
              "  </svg>\n",
              "      </button>\n",
              "      \n",
              "  <style>\n",
              "    .colab-df-container {\n",
              "      display:flex;\n",
              "      flex-wrap:wrap;\n",
              "      gap: 12px;\n",
              "    }\n",
              "\n",
              "    .colab-df-convert {\n",
              "      background-color: #E8F0FE;\n",
              "      border: none;\n",
              "      border-radius: 50%;\n",
              "      cursor: pointer;\n",
              "      display: none;\n",
              "      fill: #1967D2;\n",
              "      height: 32px;\n",
              "      padding: 0 0 0 0;\n",
              "      width: 32px;\n",
              "    }\n",
              "\n",
              "    .colab-df-convert:hover {\n",
              "      background-color: #E2EBFA;\n",
              "      box-shadow: 0px 1px 2px rgba(60, 64, 67, 0.3), 0px 1px 3px 1px rgba(60, 64, 67, 0.15);\n",
              "      fill: #174EA6;\n",
              "    }\n",
              "\n",
              "    [theme=dark] .colab-df-convert {\n",
              "      background-color: #3B4455;\n",
              "      fill: #D2E3FC;\n",
              "    }\n",
              "\n",
              "    [theme=dark] .colab-df-convert:hover {\n",
              "      background-color: #434B5C;\n",
              "      box-shadow: 0px 1px 3px 1px rgba(0, 0, 0, 0.15);\n",
              "      filter: drop-shadow(0px 1px 2px rgba(0, 0, 0, 0.3));\n",
              "      fill: #FFFFFF;\n",
              "    }\n",
              "  </style>\n",
              "\n",
              "      <script>\n",
              "        const buttonEl =\n",
              "          document.querySelector('#df-fb09812b-1b45-44c8-b3c8-fab4a75bfc63 button.colab-df-convert');\n",
              "        buttonEl.style.display =\n",
              "          google.colab.kernel.accessAllowed ? 'block' : 'none';\n",
              "\n",
              "        async function convertToInteractive(key) {\n",
              "          const element = document.querySelector('#df-fb09812b-1b45-44c8-b3c8-fab4a75bfc63');\n",
              "          const dataTable =\n",
              "            await google.colab.kernel.invokeFunction('convertToInteractive',\n",
              "                                                     [key], {});\n",
              "          if (!dataTable) return;\n",
              "\n",
              "          const docLinkHtml = 'Like what you see? Visit the ' +\n",
              "            '<a target=\"_blank\" href=https://colab.research.google.com/notebooks/data_table.ipynb>data table notebook</a>'\n",
              "            + ' to learn more about interactive tables.';\n",
              "          element.innerHTML = '';\n",
              "          dataTable['output_type'] = 'display_data';\n",
              "          await google.colab.output.renderOutput(dataTable, element);\n",
              "          const docLink = document.createElement('div');\n",
              "          docLink.innerHTML = docLinkHtml;\n",
              "          element.appendChild(docLink);\n",
              "        }\n",
              "      </script>\n",
              "    </div>\n",
              "  </div>\n",
              "  "
            ]
          },
          "metadata": {},
          "execution_count": 51
        }
      ]
    },
    {
      "cell_type": "code",
      "source": [
        "German_data = cleaned_tweets[cleaned_tweets['language'] == 'de']\n"
      ],
      "metadata": {
        "id": "yeod5NDP9f1R"
      },
      "execution_count": 52,
      "outputs": []
    },
    {
      "cell_type": "code",
      "source": [
        "German_data.head(5)"
      ],
      "metadata": {
        "id": "JYB6f8Lo9v88",
        "colab": {
          "base_uri": "https://localhost:8080/",
          "height": 531
        },
        "outputId": "5894380b-71d4-44ed-b1e6-aaa0de3625c1"
      },
      "execution_count": 53,
      "outputs": [
        {
          "output_type": "execute_result",
          "data": {
            "text/plain": [
              "                                                text  word_count  char_count  \\\n",
              "1  schmuckstücke für glanzvolle zeiten die elegan...           9          74   \n",
              "2                   ein trauriger abend für kingsley           5          32   \n",
              "3  und sehen sich nach dem verlorenen endspiel de...          11          85   \n",
              "4  kolonialisiert den westen deutlich sichtbar ke...          31         220   \n",
              "6  müde und erschöpft zurück in deutschland aber ...          41         258   \n",
              "\n",
              "   average_word_length  stopword_count  stopword_rate language  \n",
              "1             7.333333               3       0.333333       de  \n",
              "2             5.600000               2       0.400000       de  \n",
              "3             6.818182               5       0.454545       de  \n",
              "4             6.129032              13       0.419355       de  \n",
              "6             5.317073              19       0.463415       de  "
            ],
            "text/html": [
              "\n",
              "  <div id=\"df-60f7f743-1eb1-44c1-891b-d1a08a87ba80\">\n",
              "    <div class=\"colab-df-container\">\n",
              "      <div>\n",
              "<style scoped>\n",
              "    .dataframe tbody tr th:only-of-type {\n",
              "        vertical-align: middle;\n",
              "    }\n",
              "\n",
              "    .dataframe tbody tr th {\n",
              "        vertical-align: top;\n",
              "    }\n",
              "\n",
              "    .dataframe thead th {\n",
              "        text-align: right;\n",
              "    }\n",
              "</style>\n",
              "<table border=\"1\" class=\"dataframe\">\n",
              "  <thead>\n",
              "    <tr style=\"text-align: right;\">\n",
              "      <th></th>\n",
              "      <th>text</th>\n",
              "      <th>word_count</th>\n",
              "      <th>char_count</th>\n",
              "      <th>average_word_length</th>\n",
              "      <th>stopword_count</th>\n",
              "      <th>stopword_rate</th>\n",
              "      <th>language</th>\n",
              "    </tr>\n",
              "  </thead>\n",
              "  <tbody>\n",
              "    <tr>\n",
              "      <th>1</th>\n",
              "      <td>schmuckstücke für glanzvolle zeiten die elegan...</td>\n",
              "      <td>9</td>\n",
              "      <td>74</td>\n",
              "      <td>7.333333</td>\n",
              "      <td>3</td>\n",
              "      <td>0.333333</td>\n",
              "      <td>de</td>\n",
              "    </tr>\n",
              "    <tr>\n",
              "      <th>2</th>\n",
              "      <td>ein trauriger abend für kingsley</td>\n",
              "      <td>5</td>\n",
              "      <td>32</td>\n",
              "      <td>5.600000</td>\n",
              "      <td>2</td>\n",
              "      <td>0.400000</td>\n",
              "      <td>de</td>\n",
              "    </tr>\n",
              "    <tr>\n",
              "      <th>3</th>\n",
              "      <td>und sehen sich nach dem verlorenen endspiel de...</td>\n",
              "      <td>11</td>\n",
              "      <td>85</td>\n",
              "      <td>6.818182</td>\n",
              "      <td>5</td>\n",
              "      <td>0.454545</td>\n",
              "      <td>de</td>\n",
              "    </tr>\n",
              "    <tr>\n",
              "      <th>4</th>\n",
              "      <td>kolonialisiert den westen deutlich sichtbar ke...</td>\n",
              "      <td>31</td>\n",
              "      <td>220</td>\n",
              "      <td>6.129032</td>\n",
              "      <td>13</td>\n",
              "      <td>0.419355</td>\n",
              "      <td>de</td>\n",
              "    </tr>\n",
              "    <tr>\n",
              "      <th>6</th>\n",
              "      <td>müde und erschöpft zurück in deutschland aber ...</td>\n",
              "      <td>41</td>\n",
              "      <td>258</td>\n",
              "      <td>5.317073</td>\n",
              "      <td>19</td>\n",
              "      <td>0.463415</td>\n",
              "      <td>de</td>\n",
              "    </tr>\n",
              "  </tbody>\n",
              "</table>\n",
              "</div>\n",
              "      <button class=\"colab-df-convert\" onclick=\"convertToInteractive('df-60f7f743-1eb1-44c1-891b-d1a08a87ba80')\"\n",
              "              title=\"Convert this dataframe to an interactive table.\"\n",
              "              style=\"display:none;\">\n",
              "        \n",
              "  <svg xmlns=\"http://www.w3.org/2000/svg\" height=\"24px\"viewBox=\"0 0 24 24\"\n",
              "       width=\"24px\">\n",
              "    <path d=\"M0 0h24v24H0V0z\" fill=\"none\"/>\n",
              "    <path d=\"M18.56 5.44l.94 2.06.94-2.06 2.06-.94-2.06-.94-.94-2.06-.94 2.06-2.06.94zm-11 1L8.5 8.5l.94-2.06 2.06-.94-2.06-.94L8.5 2.5l-.94 2.06-2.06.94zm10 10l.94 2.06.94-2.06 2.06-.94-2.06-.94-.94-2.06-.94 2.06-2.06.94z\"/><path d=\"M17.41 7.96l-1.37-1.37c-.4-.4-.92-.59-1.43-.59-.52 0-1.04.2-1.43.59L10.3 9.45l-7.72 7.72c-.78.78-.78 2.05 0 2.83L4 21.41c.39.39.9.59 1.41.59.51 0 1.02-.2 1.41-.59l7.78-7.78 2.81-2.81c.8-.78.8-2.07 0-2.86zM5.41 20L4 18.59l7.72-7.72 1.47 1.35L5.41 20z\"/>\n",
              "  </svg>\n",
              "      </button>\n",
              "      \n",
              "  <style>\n",
              "    .colab-df-container {\n",
              "      display:flex;\n",
              "      flex-wrap:wrap;\n",
              "      gap: 12px;\n",
              "    }\n",
              "\n",
              "    .colab-df-convert {\n",
              "      background-color: #E8F0FE;\n",
              "      border: none;\n",
              "      border-radius: 50%;\n",
              "      cursor: pointer;\n",
              "      display: none;\n",
              "      fill: #1967D2;\n",
              "      height: 32px;\n",
              "      padding: 0 0 0 0;\n",
              "      width: 32px;\n",
              "    }\n",
              "\n",
              "    .colab-df-convert:hover {\n",
              "      background-color: #E2EBFA;\n",
              "      box-shadow: 0px 1px 2px rgba(60, 64, 67, 0.3), 0px 1px 3px 1px rgba(60, 64, 67, 0.15);\n",
              "      fill: #174EA6;\n",
              "    }\n",
              "\n",
              "    [theme=dark] .colab-df-convert {\n",
              "      background-color: #3B4455;\n",
              "      fill: #D2E3FC;\n",
              "    }\n",
              "\n",
              "    [theme=dark] .colab-df-convert:hover {\n",
              "      background-color: #434B5C;\n",
              "      box-shadow: 0px 1px 3px 1px rgba(0, 0, 0, 0.15);\n",
              "      filter: drop-shadow(0px 1px 2px rgba(0, 0, 0, 0.3));\n",
              "      fill: #FFFFFF;\n",
              "    }\n",
              "  </style>\n",
              "\n",
              "      <script>\n",
              "        const buttonEl =\n",
              "          document.querySelector('#df-60f7f743-1eb1-44c1-891b-d1a08a87ba80 button.colab-df-convert');\n",
              "        buttonEl.style.display =\n",
              "          google.colab.kernel.accessAllowed ? 'block' : 'none';\n",
              "\n",
              "        async function convertToInteractive(key) {\n",
              "          const element = document.querySelector('#df-60f7f743-1eb1-44c1-891b-d1a08a87ba80');\n",
              "          const dataTable =\n",
              "            await google.colab.kernel.invokeFunction('convertToInteractive',\n",
              "                                                     [key], {});\n",
              "          if (!dataTable) return;\n",
              "\n",
              "          const docLinkHtml = 'Like what you see? Visit the ' +\n",
              "            '<a target=\"_blank\" href=https://colab.research.google.com/notebooks/data_table.ipynb>data table notebook</a>'\n",
              "            + ' to learn more about interactive tables.';\n",
              "          element.innerHTML = '';\n",
              "          dataTable['output_type'] = 'display_data';\n",
              "          await google.colab.output.renderOutput(dataTable, element);\n",
              "          const docLink = document.createElement('div');\n",
              "          docLink.innerHTML = docLinkHtml;\n",
              "          element.appendChild(docLink);\n",
              "        }\n",
              "      </script>\n",
              "    </div>\n",
              "  </div>\n",
              "  "
            ]
          },
          "metadata": {},
          "execution_count": 53
        }
      ]
    },
    {
      "cell_type": "code",
      "source": [
        "German_data.count()"
      ],
      "metadata": {
        "id": "JP_cuMkC92f8",
        "colab": {
          "base_uri": "https://localhost:8080/"
        },
        "outputId": "5c2626d5-a567-4e16-c327-46a72b0cdf3a"
      },
      "execution_count": 54,
      "outputs": [
        {
          "output_type": "execute_result",
          "data": {
            "text/plain": [
              "text                   5365\n",
              "word_count             5365\n",
              "char_count             5365\n",
              "average_word_length    5365\n",
              "stopword_count         5365\n",
              "stopword_rate          5365\n",
              "language               5365\n",
              "dtype: int64"
            ]
          },
          "metadata": {},
          "execution_count": 54
        }
      ]
    },
    {
      "cell_type": "code",
      "source": [
        "German_data.to_csv(\"german_tweets.csv\",index=False)\n"
      ],
      "metadata": {
        "id": "Mxf3KIkN97aq"
      },
      "execution_count": 56,
      "outputs": []
    },
    {
      "cell_type": "code",
      "source": [
        "from textblob import Word, TextBlob\n",
        "from nltk.tokenize import word_tokenize\n",
        "def preprocess(text, stopwords):                               \n",
        "    word_tokens = word_tokenize(text)\n",
        "    words_tokens_lower = [word.lower() for word in word_tokens]\n",
        "\n",
        "    #after stemming, some words become hard to understand. For the interpretation purpose, the lemma is better than the linguistic root.\n",
        "    words_filtered = [Word(word).lemmatize() for word in words_tokens_lower if word not in german_stop_words]\n",
        "\n",
        "    preprocessed_text = \" \".join(words_filtered)\n",
        "    return preprocessed_text"
      ],
      "metadata": {
        "id": "rm_IE1cI-Qfe"
      },
      "execution_count": 10,
      "outputs": []
    },
    {
      "cell_type": "code",
      "source": [
        "tweets=German_data.copy()"
      ],
      "metadata": {
        "id": "1RQpw408_52h"
      },
      "execution_count": 57,
      "outputs": []
    },
    {
      "cell_type": "code",
      "source": [
        "tweets.describe()"
      ],
      "metadata": {
        "id": "hBqtmWB6AIks",
        "colab": {
          "base_uri": "https://localhost:8080/",
          "height": 300
        },
        "outputId": "d8204a21-5f99-4188-a83f-163229b0c5e8"
      },
      "execution_count": 59,
      "outputs": [
        {
          "output_type": "execute_result",
          "data": {
            "text/plain": [
              "        word_count   char_count  average_word_length  stopword_count  \\\n",
              "count  5365.000000  5365.000000          5365.000000     5365.000000   \n",
              "mean     16.110158   100.644362             5.397780        7.648089   \n",
              "std       9.055508    56.783744             1.097699        4.969362   \n",
              "min       1.000000     3.000000             2.000000        0.000000   \n",
              "25%       9.000000    59.000000             4.733333        4.000000   \n",
              "50%      14.000000    87.000000             5.266667        7.000000   \n",
              "75%      21.000000   126.000000             5.878788       10.000000   \n",
              "max      51.000000   270.000000            24.333333       34.000000   \n",
              "\n",
              "       stopword_rate  \n",
              "count    5365.000000  \n",
              "mean        0.460394  \n",
              "std         0.143158  \n",
              "min         0.000000  \n",
              "25%         0.384615  \n",
              "50%         0.470588  \n",
              "75%         0.550000  \n",
              "max         1.000000  "
            ],
            "text/html": [
              "\n",
              "  <div id=\"df-0997620f-c21d-4713-8466-c7dc86b0fd52\">\n",
              "    <div class=\"colab-df-container\">\n",
              "      <div>\n",
              "<style scoped>\n",
              "    .dataframe tbody tr th:only-of-type {\n",
              "        vertical-align: middle;\n",
              "    }\n",
              "\n",
              "    .dataframe tbody tr th {\n",
              "        vertical-align: top;\n",
              "    }\n",
              "\n",
              "    .dataframe thead th {\n",
              "        text-align: right;\n",
              "    }\n",
              "</style>\n",
              "<table border=\"1\" class=\"dataframe\">\n",
              "  <thead>\n",
              "    <tr style=\"text-align: right;\">\n",
              "      <th></th>\n",
              "      <th>word_count</th>\n",
              "      <th>char_count</th>\n",
              "      <th>average_word_length</th>\n",
              "      <th>stopword_count</th>\n",
              "      <th>stopword_rate</th>\n",
              "    </tr>\n",
              "  </thead>\n",
              "  <tbody>\n",
              "    <tr>\n",
              "      <th>count</th>\n",
              "      <td>5365.000000</td>\n",
              "      <td>5365.000000</td>\n",
              "      <td>5365.000000</td>\n",
              "      <td>5365.000000</td>\n",
              "      <td>5365.000000</td>\n",
              "    </tr>\n",
              "    <tr>\n",
              "      <th>mean</th>\n",
              "      <td>16.110158</td>\n",
              "      <td>100.644362</td>\n",
              "      <td>5.397780</td>\n",
              "      <td>7.648089</td>\n",
              "      <td>0.460394</td>\n",
              "    </tr>\n",
              "    <tr>\n",
              "      <th>std</th>\n",
              "      <td>9.055508</td>\n",
              "      <td>56.783744</td>\n",
              "      <td>1.097699</td>\n",
              "      <td>4.969362</td>\n",
              "      <td>0.143158</td>\n",
              "    </tr>\n",
              "    <tr>\n",
              "      <th>min</th>\n",
              "      <td>1.000000</td>\n",
              "      <td>3.000000</td>\n",
              "      <td>2.000000</td>\n",
              "      <td>0.000000</td>\n",
              "      <td>0.000000</td>\n",
              "    </tr>\n",
              "    <tr>\n",
              "      <th>25%</th>\n",
              "      <td>9.000000</td>\n",
              "      <td>59.000000</td>\n",
              "      <td>4.733333</td>\n",
              "      <td>4.000000</td>\n",
              "      <td>0.384615</td>\n",
              "    </tr>\n",
              "    <tr>\n",
              "      <th>50%</th>\n",
              "      <td>14.000000</td>\n",
              "      <td>87.000000</td>\n",
              "      <td>5.266667</td>\n",
              "      <td>7.000000</td>\n",
              "      <td>0.470588</td>\n",
              "    </tr>\n",
              "    <tr>\n",
              "      <th>75%</th>\n",
              "      <td>21.000000</td>\n",
              "      <td>126.000000</td>\n",
              "      <td>5.878788</td>\n",
              "      <td>10.000000</td>\n",
              "      <td>0.550000</td>\n",
              "    </tr>\n",
              "    <tr>\n",
              "      <th>max</th>\n",
              "      <td>51.000000</td>\n",
              "      <td>270.000000</td>\n",
              "      <td>24.333333</td>\n",
              "      <td>34.000000</td>\n",
              "      <td>1.000000</td>\n",
              "    </tr>\n",
              "  </tbody>\n",
              "</table>\n",
              "</div>\n",
              "      <button class=\"colab-df-convert\" onclick=\"convertToInteractive('df-0997620f-c21d-4713-8466-c7dc86b0fd52')\"\n",
              "              title=\"Convert this dataframe to an interactive table.\"\n",
              "              style=\"display:none;\">\n",
              "        \n",
              "  <svg xmlns=\"http://www.w3.org/2000/svg\" height=\"24px\"viewBox=\"0 0 24 24\"\n",
              "       width=\"24px\">\n",
              "    <path d=\"M0 0h24v24H0V0z\" fill=\"none\"/>\n",
              "    <path d=\"M18.56 5.44l.94 2.06.94-2.06 2.06-.94-2.06-.94-.94-2.06-.94 2.06-2.06.94zm-11 1L8.5 8.5l.94-2.06 2.06-.94-2.06-.94L8.5 2.5l-.94 2.06-2.06.94zm10 10l.94 2.06.94-2.06 2.06-.94-2.06-.94-.94-2.06-.94 2.06-2.06.94z\"/><path d=\"M17.41 7.96l-1.37-1.37c-.4-.4-.92-.59-1.43-.59-.52 0-1.04.2-1.43.59L10.3 9.45l-7.72 7.72c-.78.78-.78 2.05 0 2.83L4 21.41c.39.39.9.59 1.41.59.51 0 1.02-.2 1.41-.59l7.78-7.78 2.81-2.81c.8-.78.8-2.07 0-2.86zM5.41 20L4 18.59l7.72-7.72 1.47 1.35L5.41 20z\"/>\n",
              "  </svg>\n",
              "      </button>\n",
              "      \n",
              "  <style>\n",
              "    .colab-df-container {\n",
              "      display:flex;\n",
              "      flex-wrap:wrap;\n",
              "      gap: 12px;\n",
              "    }\n",
              "\n",
              "    .colab-df-convert {\n",
              "      background-color: #E8F0FE;\n",
              "      border: none;\n",
              "      border-radius: 50%;\n",
              "      cursor: pointer;\n",
              "      display: none;\n",
              "      fill: #1967D2;\n",
              "      height: 32px;\n",
              "      padding: 0 0 0 0;\n",
              "      width: 32px;\n",
              "    }\n",
              "\n",
              "    .colab-df-convert:hover {\n",
              "      background-color: #E2EBFA;\n",
              "      box-shadow: 0px 1px 2px rgba(60, 64, 67, 0.3), 0px 1px 3px 1px rgba(60, 64, 67, 0.15);\n",
              "      fill: #174EA6;\n",
              "    }\n",
              "\n",
              "    [theme=dark] .colab-df-convert {\n",
              "      background-color: #3B4455;\n",
              "      fill: #D2E3FC;\n",
              "    }\n",
              "\n",
              "    [theme=dark] .colab-df-convert:hover {\n",
              "      background-color: #434B5C;\n",
              "      box-shadow: 0px 1px 3px 1px rgba(0, 0, 0, 0.15);\n",
              "      filter: drop-shadow(0px 1px 2px rgba(0, 0, 0, 0.3));\n",
              "      fill: #FFFFFF;\n",
              "    }\n",
              "  </style>\n",
              "\n",
              "      <script>\n",
              "        const buttonEl =\n",
              "          document.querySelector('#df-0997620f-c21d-4713-8466-c7dc86b0fd52 button.colab-df-convert');\n",
              "        buttonEl.style.display =\n",
              "          google.colab.kernel.accessAllowed ? 'block' : 'none';\n",
              "\n",
              "        async function convertToInteractive(key) {\n",
              "          const element = document.querySelector('#df-0997620f-c21d-4713-8466-c7dc86b0fd52');\n",
              "          const dataTable =\n",
              "            await google.colab.kernel.invokeFunction('convertToInteractive',\n",
              "                                                     [key], {});\n",
              "          if (!dataTable) return;\n",
              "\n",
              "          const docLinkHtml = 'Like what you see? Visit the ' +\n",
              "            '<a target=\"_blank\" href=https://colab.research.google.com/notebooks/data_table.ipynb>data table notebook</a>'\n",
              "            + ' to learn more about interactive tables.';\n",
              "          element.innerHTML = '';\n",
              "          dataTable['output_type'] = 'display_data';\n",
              "          await google.colab.output.renderOutput(dataTable, element);\n",
              "          const docLink = document.createElement('div');\n",
              "          docLink.innerHTML = docLinkHtml;\n",
              "          element.appendChild(docLink);\n",
              "        }\n",
              "      </script>\n",
              "    </div>\n",
              "  </div>\n",
              "  "
            ]
          },
          "metadata": {},
          "execution_count": 59
        }
      ]
    },
    {
      "cell_type": "code",
      "source": [
        "tweets.drop(columns=[\"word_count\",\"char_count\",\"average_word_length\",\"stopword_count\",\"stopword_rate\"],inplace= True)"
      ],
      "metadata": {
        "id": "2ZTEriZzAhqB"
      },
      "execution_count": 60,
      "outputs": []
    },
    {
      "cell_type": "code",
      "source": [
        "tweets.head(2)"
      ],
      "metadata": {
        "id": "YBx3hwERA0nw",
        "colab": {
          "base_uri": "https://localhost:8080/",
          "height": 112
        },
        "outputId": "5a6be98e-7cfe-4a58-90d6-50ced615c712"
      },
      "execution_count": 61,
      "outputs": [
        {
          "output_type": "execute_result",
          "data": {
            "text/plain": [
              "                                                text language\n",
              "1  schmuckstücke für glanzvolle zeiten die elegan...       de\n",
              "2                   ein trauriger abend für kingsley       de"
            ],
            "text/html": [
              "\n",
              "  <div id=\"df-0874815e-e924-4710-bd03-63713d4b5ea2\">\n",
              "    <div class=\"colab-df-container\">\n",
              "      <div>\n",
              "<style scoped>\n",
              "    .dataframe tbody tr th:only-of-type {\n",
              "        vertical-align: middle;\n",
              "    }\n",
              "\n",
              "    .dataframe tbody tr th {\n",
              "        vertical-align: top;\n",
              "    }\n",
              "\n",
              "    .dataframe thead th {\n",
              "        text-align: right;\n",
              "    }\n",
              "</style>\n",
              "<table border=\"1\" class=\"dataframe\">\n",
              "  <thead>\n",
              "    <tr style=\"text-align: right;\">\n",
              "      <th></th>\n",
              "      <th>text</th>\n",
              "      <th>language</th>\n",
              "    </tr>\n",
              "  </thead>\n",
              "  <tbody>\n",
              "    <tr>\n",
              "      <th>1</th>\n",
              "      <td>schmuckstücke für glanzvolle zeiten die elegan...</td>\n",
              "      <td>de</td>\n",
              "    </tr>\n",
              "    <tr>\n",
              "      <th>2</th>\n",
              "      <td>ein trauriger abend für kingsley</td>\n",
              "      <td>de</td>\n",
              "    </tr>\n",
              "  </tbody>\n",
              "</table>\n",
              "</div>\n",
              "      <button class=\"colab-df-convert\" onclick=\"convertToInteractive('df-0874815e-e924-4710-bd03-63713d4b5ea2')\"\n",
              "              title=\"Convert this dataframe to an interactive table.\"\n",
              "              style=\"display:none;\">\n",
              "        \n",
              "  <svg xmlns=\"http://www.w3.org/2000/svg\" height=\"24px\"viewBox=\"0 0 24 24\"\n",
              "       width=\"24px\">\n",
              "    <path d=\"M0 0h24v24H0V0z\" fill=\"none\"/>\n",
              "    <path d=\"M18.56 5.44l.94 2.06.94-2.06 2.06-.94-2.06-.94-.94-2.06-.94 2.06-2.06.94zm-11 1L8.5 8.5l.94-2.06 2.06-.94-2.06-.94L8.5 2.5l-.94 2.06-2.06.94zm10 10l.94 2.06.94-2.06 2.06-.94-2.06-.94-.94-2.06-.94 2.06-2.06.94z\"/><path d=\"M17.41 7.96l-1.37-1.37c-.4-.4-.92-.59-1.43-.59-.52 0-1.04.2-1.43.59L10.3 9.45l-7.72 7.72c-.78.78-.78 2.05 0 2.83L4 21.41c.39.39.9.59 1.41.59.51 0 1.02-.2 1.41-.59l7.78-7.78 2.81-2.81c.8-.78.8-2.07 0-2.86zM5.41 20L4 18.59l7.72-7.72 1.47 1.35L5.41 20z\"/>\n",
              "  </svg>\n",
              "      </button>\n",
              "      \n",
              "  <style>\n",
              "    .colab-df-container {\n",
              "      display:flex;\n",
              "      flex-wrap:wrap;\n",
              "      gap: 12px;\n",
              "    }\n",
              "\n",
              "    .colab-df-convert {\n",
              "      background-color: #E8F0FE;\n",
              "      border: none;\n",
              "      border-radius: 50%;\n",
              "      cursor: pointer;\n",
              "      display: none;\n",
              "      fill: #1967D2;\n",
              "      height: 32px;\n",
              "      padding: 0 0 0 0;\n",
              "      width: 32px;\n",
              "    }\n",
              "\n",
              "    .colab-df-convert:hover {\n",
              "      background-color: #E2EBFA;\n",
              "      box-shadow: 0px 1px 2px rgba(60, 64, 67, 0.3), 0px 1px 3px 1px rgba(60, 64, 67, 0.15);\n",
              "      fill: #174EA6;\n",
              "    }\n",
              "\n",
              "    [theme=dark] .colab-df-convert {\n",
              "      background-color: #3B4455;\n",
              "      fill: #D2E3FC;\n",
              "    }\n",
              "\n",
              "    [theme=dark] .colab-df-convert:hover {\n",
              "      background-color: #434B5C;\n",
              "      box-shadow: 0px 1px 3px 1px rgba(0, 0, 0, 0.15);\n",
              "      filter: drop-shadow(0px 1px 2px rgba(0, 0, 0, 0.3));\n",
              "      fill: #FFFFFF;\n",
              "    }\n",
              "  </style>\n",
              "\n",
              "      <script>\n",
              "        const buttonEl =\n",
              "          document.querySelector('#df-0874815e-e924-4710-bd03-63713d4b5ea2 button.colab-df-convert');\n",
              "        buttonEl.style.display =\n",
              "          google.colab.kernel.accessAllowed ? 'block' : 'none';\n",
              "\n",
              "        async function convertToInteractive(key) {\n",
              "          const element = document.querySelector('#df-0874815e-e924-4710-bd03-63713d4b5ea2');\n",
              "          const dataTable =\n",
              "            await google.colab.kernel.invokeFunction('convertToInteractive',\n",
              "                                                     [key], {});\n",
              "          if (!dataTable) return;\n",
              "\n",
              "          const docLinkHtml = 'Like what you see? Visit the ' +\n",
              "            '<a target=\"_blank\" href=https://colab.research.google.com/notebooks/data_table.ipynb>data table notebook</a>'\n",
              "            + ' to learn more about interactive tables.';\n",
              "          element.innerHTML = '';\n",
              "          dataTable['output_type'] = 'display_data';\n",
              "          await google.colab.output.renderOutput(dataTable, element);\n",
              "          const docLink = document.createElement('div');\n",
              "          docLink.innerHTML = docLinkHtml;\n",
              "          element.appendChild(docLink);\n",
              "        }\n",
              "      </script>\n",
              "    </div>\n",
              "  </div>\n",
              "  "
            ]
          },
          "metadata": {},
          "execution_count": 61
        }
      ]
    },
    {
      "cell_type": "code",
      "source": [
        "tweets.drop(columns=[\"language\"],inplace=True)"
      ],
      "metadata": {
        "id": "r2c9HdJ-A4om"
      },
      "execution_count": 62,
      "outputs": []
    },
    {
      "cell_type": "code",
      "source": [
        "first_300_rows = tweets[:300]"
      ],
      "metadata": {
        "id": "EZdF6ayyBQfi"
      },
      "execution_count": 63,
      "outputs": []
    },
    {
      "cell_type": "code",
      "source": [
        "rest_of_data=tweets[301:]"
      ],
      "metadata": {
        "id": "hFqU4RPsDtu_"
      },
      "execution_count": 64,
      "outputs": []
    },
    {
      "cell_type": "code",
      "source": [
        "rest_of_data.count()"
      ],
      "metadata": {
        "id": "HhwyD3jUD1bU",
        "colab": {
          "base_uri": "https://localhost:8080/"
        },
        "outputId": "c665cb72-62cc-4e76-b848-4f5b60cacee4"
      },
      "execution_count": 65,
      "outputs": [
        {
          "output_type": "execute_result",
          "data": {
            "text/plain": [
              "text    5064\n",
              "dtype: int64"
            ]
          },
          "metadata": {},
          "execution_count": 65
        }
      ]
    },
    {
      "cell_type": "code",
      "source": [
        "first_300_rows.to_csv('USWS/model_data.csv',index=False)"
      ],
      "metadata": {
        "id": "L88Rlc94D23G"
      },
      "execution_count": null,
      "outputs": []
    },
    {
      "cell_type": "code",
      "source": [
        "rest_of_data.to_csv('USWS/rest_of_tweets.csv',index=False)"
      ],
      "metadata": {
        "id": "4cbY0RGvEUYJ"
      },
      "execution_count": null,
      "outputs": []
    },
    {
      "cell_type": "code",
      "source": [
        "first_300_rows['sentiment']=''"
      ],
      "metadata": {
        "id": "9eds7duZErGq"
      },
      "execution_count": null,
      "outputs": []
    },
    {
      "cell_type": "code",
      "source": [
        "first_300_rows"
      ],
      "metadata": {
        "id": "meHsWPUPFALQ"
      },
      "execution_count": null,
      "outputs": []
    },
    {
      "cell_type": "code",
      "source": [
        "labeled_data= pd.read_excel('USWS/labeled_data.xlsx')"
      ],
      "metadata": {
        "id": "Gke86iXiFUb8"
      },
      "execution_count": null,
      "outputs": []
    },
    {
      "cell_type": "code",
      "source": [
        "labeled_data.head(5)"
      ],
      "metadata": {
        "id": "4PSSJBoiQkg3"
      },
      "execution_count": null,
      "outputs": []
    },
    {
      "cell_type": "code",
      "source": [
        "import re "
      ],
      "metadata": {
        "id": "46A3-Ni-SzhM"
      },
      "execution_count": null,
      "outputs": []
    },
    {
      "cell_type": "code",
      "source": [
        " import nltk\n",
        "nltk.download('punkt')"
      ],
      "metadata": {
        "id": "iuym2cc7TeiT",
        "colab": {
          "base_uri": "https://localhost:8080/"
        },
        "outputId": "83680110-9c20-424a-e3a0-843a1946bea8"
      },
      "execution_count": 14,
      "outputs": [
        {
          "output_type": "stream",
          "name": "stderr",
          "text": [
            "[nltk_data] Downloading package punkt to /root/nltk_data...\n",
            "[nltk_data]   Unzipping tokenizers/punkt.zip.\n"
          ]
        },
        {
          "output_type": "execute_result",
          "data": {
            "text/plain": [
              "True"
            ]
          },
          "metadata": {},
          "execution_count": 14
        }
      ]
    },
    {
      "cell_type": "code",
      "source": [
        "nltk.download('wordnet')"
      ],
      "metadata": {
        "id": "xkMmStAbT1Vx",
        "colab": {
          "base_uri": "https://localhost:8080/"
        },
        "outputId": "f677124c-1037-4ff2-ecb9-387f2279890f"
      },
      "execution_count": 15,
      "outputs": [
        {
          "output_type": "stream",
          "name": "stderr",
          "text": [
            "[nltk_data] Downloading package wordnet to /root/nltk_data...\n"
          ]
        },
        {
          "output_type": "execute_result",
          "data": {
            "text/plain": [
              "True"
            ]
          },
          "metadata": {},
          "execution_count": 15
        }
      ]
    },
    {
      "cell_type": "code",
      "source": [
        "nltk.download('omw-1.4')"
      ],
      "metadata": {
        "id": "dGCMbqwpUGuj",
        "colab": {
          "base_uri": "https://localhost:8080/"
        },
        "outputId": "c407129d-a4e1-47d4-fa9b-8aaac0c77dff"
      },
      "execution_count": 16,
      "outputs": [
        {
          "output_type": "stream",
          "name": "stderr",
          "text": [
            "[nltk_data] Downloading package omw-1.4 to /root/nltk_data...\n"
          ]
        },
        {
          "output_type": "execute_result",
          "data": {
            "text/plain": [
              "True"
            ]
          },
          "metadata": {},
          "execution_count": 16
        }
      ]
    },
    {
      "cell_type": "code",
      "source": [
        "labeled_data['preprocessed_text'] = labeled_data.text.apply(lambda x: preprocess(x, german_stop_words))\n"
      ],
      "metadata": {
        "id": "U_dEtE1FSnK_"
      },
      "execution_count": null,
      "outputs": []
    },
    {
      "cell_type": "code",
      "source": [
        "labeled_data.head()"
      ],
      "metadata": {
        "id": "FD1eIuu8SVLq",
        "colab": {
          "base_uri": "https://localhost:8080/",
          "height": 337
        },
        "outputId": "34d22509-3155-4483-e65f-6dfc41e015b2"
      },
      "execution_count": 67,
      "outputs": [
        {
          "output_type": "execute_result",
          "data": {
            "text/plain": [
              "   Unnamed: 0                                               text sentiment  \\\n",
              "0           0  schmuckstücke für glanzvolle zeiten die elegan...   positiv   \n",
              "1           1                   ein trauriger abend für kingsley   negativ   \n",
              "2           2  und sehen sich nach dem verlorenen endspiel de...   negativ   \n",
              "3           3  kolonialisiert den westen deutlich sichtbar ke...   negativ   \n",
              "4           4  müde und erschöpft zurück in deutschland aber ...   positiv   \n",
              "\n",
              "                                   preprocessed_text  \n",
              "0  schmuckstücke glanzvolle zeiten eleganten rosg...  \n",
              "1                           trauriger abend kingsley  \n",
              "2  sehen verlorenen endspiel rassistischen anfein...  \n",
              "3  kolonialisiert westen deutlich sichtbar kennze...  \n",
              "4  müde erschöpft zurück deutschland immer geflas...  "
            ],
            "text/html": [
              "\n",
              "  <div id=\"df-af8d8fbd-366d-484a-8b9c-a769d703263c\">\n",
              "    <div class=\"colab-df-container\">\n",
              "      <div>\n",
              "<style scoped>\n",
              "    .dataframe tbody tr th:only-of-type {\n",
              "        vertical-align: middle;\n",
              "    }\n",
              "\n",
              "    .dataframe tbody tr th {\n",
              "        vertical-align: top;\n",
              "    }\n",
              "\n",
              "    .dataframe thead th {\n",
              "        text-align: right;\n",
              "    }\n",
              "</style>\n",
              "<table border=\"1\" class=\"dataframe\">\n",
              "  <thead>\n",
              "    <tr style=\"text-align: right;\">\n",
              "      <th></th>\n",
              "      <th>Unnamed: 0</th>\n",
              "      <th>text</th>\n",
              "      <th>sentiment</th>\n",
              "      <th>preprocessed_text</th>\n",
              "    </tr>\n",
              "  </thead>\n",
              "  <tbody>\n",
              "    <tr>\n",
              "      <th>0</th>\n",
              "      <td>0</td>\n",
              "      <td>schmuckstücke für glanzvolle zeiten die elegan...</td>\n",
              "      <td>positiv</td>\n",
              "      <td>schmuckstücke glanzvolle zeiten eleganten rosg...</td>\n",
              "    </tr>\n",
              "    <tr>\n",
              "      <th>1</th>\n",
              "      <td>1</td>\n",
              "      <td>ein trauriger abend für kingsley</td>\n",
              "      <td>negativ</td>\n",
              "      <td>trauriger abend kingsley</td>\n",
              "    </tr>\n",
              "    <tr>\n",
              "      <th>2</th>\n",
              "      <td>2</td>\n",
              "      <td>und sehen sich nach dem verlorenen endspiel de...</td>\n",
              "      <td>negativ</td>\n",
              "      <td>sehen verlorenen endspiel rassistischen anfein...</td>\n",
              "    </tr>\n",
              "    <tr>\n",
              "      <th>3</th>\n",
              "      <td>3</td>\n",
              "      <td>kolonialisiert den westen deutlich sichtbar ke...</td>\n",
              "      <td>negativ</td>\n",
              "      <td>kolonialisiert westen deutlich sichtbar kennze...</td>\n",
              "    </tr>\n",
              "    <tr>\n",
              "      <th>4</th>\n",
              "      <td>4</td>\n",
              "      <td>müde und erschöpft zurück in deutschland aber ...</td>\n",
              "      <td>positiv</td>\n",
              "      <td>müde erschöpft zurück deutschland immer geflas...</td>\n",
              "    </tr>\n",
              "  </tbody>\n",
              "</table>\n",
              "</div>\n",
              "      <button class=\"colab-df-convert\" onclick=\"convertToInteractive('df-af8d8fbd-366d-484a-8b9c-a769d703263c')\"\n",
              "              title=\"Convert this dataframe to an interactive table.\"\n",
              "              style=\"display:none;\">\n",
              "        \n",
              "  <svg xmlns=\"http://www.w3.org/2000/svg\" height=\"24px\"viewBox=\"0 0 24 24\"\n",
              "       width=\"24px\">\n",
              "    <path d=\"M0 0h24v24H0V0z\" fill=\"none\"/>\n",
              "    <path d=\"M18.56 5.44l.94 2.06.94-2.06 2.06-.94-2.06-.94-.94-2.06-.94 2.06-2.06.94zm-11 1L8.5 8.5l.94-2.06 2.06-.94-2.06-.94L8.5 2.5l-.94 2.06-2.06.94zm10 10l.94 2.06.94-2.06 2.06-.94-2.06-.94-.94-2.06-.94 2.06-2.06.94z\"/><path d=\"M17.41 7.96l-1.37-1.37c-.4-.4-.92-.59-1.43-.59-.52 0-1.04.2-1.43.59L10.3 9.45l-7.72 7.72c-.78.78-.78 2.05 0 2.83L4 21.41c.39.39.9.59 1.41.59.51 0 1.02-.2 1.41-.59l7.78-7.78 2.81-2.81c.8-.78.8-2.07 0-2.86zM5.41 20L4 18.59l7.72-7.72 1.47 1.35L5.41 20z\"/>\n",
              "  </svg>\n",
              "      </button>\n",
              "      \n",
              "  <style>\n",
              "    .colab-df-container {\n",
              "      display:flex;\n",
              "      flex-wrap:wrap;\n",
              "      gap: 12px;\n",
              "    }\n",
              "\n",
              "    .colab-df-convert {\n",
              "      background-color: #E8F0FE;\n",
              "      border: none;\n",
              "      border-radius: 50%;\n",
              "      cursor: pointer;\n",
              "      display: none;\n",
              "      fill: #1967D2;\n",
              "      height: 32px;\n",
              "      padding: 0 0 0 0;\n",
              "      width: 32px;\n",
              "    }\n",
              "\n",
              "    .colab-df-convert:hover {\n",
              "      background-color: #E2EBFA;\n",
              "      box-shadow: 0px 1px 2px rgba(60, 64, 67, 0.3), 0px 1px 3px 1px rgba(60, 64, 67, 0.15);\n",
              "      fill: #174EA6;\n",
              "    }\n",
              "\n",
              "    [theme=dark] .colab-df-convert {\n",
              "      background-color: #3B4455;\n",
              "      fill: #D2E3FC;\n",
              "    }\n",
              "\n",
              "    [theme=dark] .colab-df-convert:hover {\n",
              "      background-color: #434B5C;\n",
              "      box-shadow: 0px 1px 3px 1px rgba(0, 0, 0, 0.15);\n",
              "      filter: drop-shadow(0px 1px 2px rgba(0, 0, 0, 0.3));\n",
              "      fill: #FFFFFF;\n",
              "    }\n",
              "  </style>\n",
              "\n",
              "      <script>\n",
              "        const buttonEl =\n",
              "          document.querySelector('#df-af8d8fbd-366d-484a-8b9c-a769d703263c button.colab-df-convert');\n",
              "        buttonEl.style.display =\n",
              "          google.colab.kernel.accessAllowed ? 'block' : 'none';\n",
              "\n",
              "        async function convertToInteractive(key) {\n",
              "          const element = document.querySelector('#df-af8d8fbd-366d-484a-8b9c-a769d703263c');\n",
              "          const dataTable =\n",
              "            await google.colab.kernel.invokeFunction('convertToInteractive',\n",
              "                                                     [key], {});\n",
              "          if (!dataTable) return;\n",
              "\n",
              "          const docLinkHtml = 'Like what you see? Visit the ' +\n",
              "            '<a target=\"_blank\" href=https://colab.research.google.com/notebooks/data_table.ipynb>data table notebook</a>'\n",
              "            + ' to learn more about interactive tables.';\n",
              "          element.innerHTML = '';\n",
              "          dataTable['output_type'] = 'display_data';\n",
              "          await google.colab.output.renderOutput(dataTable, element);\n",
              "          const docLink = document.createElement('div');\n",
              "          docLink.innerHTML = docLinkHtml;\n",
              "          element.appendChild(docLink);\n",
              "        }\n",
              "      </script>\n",
              "    </div>\n",
              "  </div>\n",
              "  "
            ]
          },
          "metadata": {},
          "execution_count": 67
        }
      ]
    },
    {
      "cell_type": "code",
      "source": [
        "#@title Standardtext für Titel\n",
        "labeled_data.to_csv('processed_modell_data.csv')"
      ],
      "metadata": {
        "id": "FpUKuW7oVd4K"
      },
      "execution_count": null,
      "outputs": []
    },
    {
      "cell_type": "markdown",
      "source": [],
      "metadata": {
        "id": "-5ibLBsZ_Qb2"
      }
    },
    {
      "cell_type": "code",
      "source": [
        "import pandas as pd\n",
        "labeled_data=pd.read_csv('processed_modell_data.csv')\n"
      ],
      "metadata": {
        "id": "hIDMlZT7lnyc"
      },
      "execution_count": null,
      "outputs": []
    },
    {
      "cell_type": "code",
      "source": [
        "from gensim.test.utils import common_texts\n",
        "from gensim.models import Word2Vec"
      ],
      "metadata": {
        "id": "7KW0TYtxU8sI"
      },
      "execution_count": null,
      "outputs": []
    },
    {
      "cell_type": "code",
      "source": [
        "from keras.layers import Reshape\n"
      ],
      "metadata": {
        "id": "JXbhiN5ngd13"
      },
      "execution_count": null,
      "outputs": []
    },
    {
      "cell_type": "code",
      "source": [
        "pip install transformers"
      ],
      "metadata": {
        "id": "WpaiG9upjWTU",
        "colab": {
          "base_uri": "https://localhost:8080/"
        },
        "outputId": "dabe9354-2e41-4637-9dd8-9708f52e71d3"
      },
      "execution_count": null,
      "outputs": [
        {
          "output_type": "stream",
          "name": "stdout",
          "text": [
            "Looking in indexes: https://pypi.org/simple, https://us-python.pkg.dev/colab-wheels/public/simple/\n",
            "Collecting transformers\n",
            "  Downloading transformers-4.26.0-py3-none-any.whl (6.3 MB)\n",
            "\u001b[2K     \u001b[90m━━━━━━━━━━━━━━━━━━━━━━━━━━━━━━━━━━━━━━━━\u001b[0m \u001b[32m6.3/6.3 MB\u001b[0m \u001b[31m75.2 MB/s\u001b[0m eta \u001b[36m0:00:00\u001b[0m\n",
            "\u001b[?25hRequirement already satisfied: tqdm>=4.27 in /usr/local/lib/python3.8/dist-packages (from transformers) (4.64.1)\n",
            "Requirement already satisfied: pyyaml>=5.1 in /usr/local/lib/python3.8/dist-packages (from transformers) (6.0)\n",
            "Requirement already satisfied: requests in /usr/local/lib/python3.8/dist-packages (from transformers) (2.25.1)\n",
            "Requirement already satisfied: numpy>=1.17 in /usr/local/lib/python3.8/dist-packages (from transformers) (1.21.6)\n",
            "Requirement already satisfied: regex!=2019.12.17 in /usr/local/lib/python3.8/dist-packages (from transformers) (2022.6.2)\n",
            "Collecting huggingface-hub<1.0,>=0.11.0\n",
            "  Downloading huggingface_hub-0.12.0-py3-none-any.whl (190 kB)\n",
            "\u001b[2K     \u001b[90m━━━━━━━━━━━━━━━━━━━━━━━━━━━━━━━━━━━━━━\u001b[0m \u001b[32m190.3/190.3 KB\u001b[0m \u001b[31m12.8 MB/s\u001b[0m eta \u001b[36m0:00:00\u001b[0m\n",
            "\u001b[?25hRequirement already satisfied: filelock in /usr/local/lib/python3.8/dist-packages (from transformers) (3.9.0)\n",
            "Requirement already satisfied: packaging>=20.0 in /usr/local/lib/python3.8/dist-packages (from transformers) (21.3)\n",
            "Collecting tokenizers!=0.11.3,<0.14,>=0.11.1\n",
            "  Downloading tokenizers-0.13.2-cp38-cp38-manylinux_2_17_x86_64.manylinux2014_x86_64.whl (7.6 MB)\n",
            "\u001b[2K     \u001b[90m━━━━━━━━━━━━━━━━━━━━━━━━━━━━━━━━━━━━━━━━\u001b[0m \u001b[32m7.6/7.6 MB\u001b[0m \u001b[31m63.2 MB/s\u001b[0m eta \u001b[36m0:00:00\u001b[0m\n",
            "\u001b[?25hRequirement already satisfied: typing-extensions>=3.7.4.3 in /usr/local/lib/python3.8/dist-packages (from huggingface-hub<1.0,>=0.11.0->transformers) (4.4.0)\n",
            "Requirement already satisfied: pyparsing!=3.0.5,>=2.0.2 in /usr/local/lib/python3.8/dist-packages (from packaging>=20.0->transformers) (3.0.9)\n",
            "Requirement already satisfied: chardet<5,>=3.0.2 in /usr/local/lib/python3.8/dist-packages (from requests->transformers) (4.0.0)\n",
            "Requirement already satisfied: certifi>=2017.4.17 in /usr/local/lib/python3.8/dist-packages (from requests->transformers) (2022.12.7)\n",
            "Requirement already satisfied: urllib3<1.27,>=1.21.1 in /usr/local/lib/python3.8/dist-packages (from requests->transformers) (1.24.3)\n",
            "Requirement already satisfied: idna<3,>=2.5 in /usr/local/lib/python3.8/dist-packages (from requests->transformers) (2.10)\n",
            "Installing collected packages: tokenizers, huggingface-hub, transformers\n",
            "Successfully installed huggingface-hub-0.12.0 tokenizers-0.13.2 transformers-4.26.0\n"
          ]
        }
      ]
    },
    {
      "cell_type": "code",
      "source": [
        "import pandas as pd\n",
        "labeled_data=pd.read_csv('processed_modell_data.csv')"
      ],
      "metadata": {
        "id": "LHExJ2q5fARm"
      },
      "execution_count": null,
      "outputs": []
    },
    {
      "cell_type": "code",
      "source": [
        "from sklearn.model_selection import train_test_split\n",
        "\n",
        "# Split the data into a training set (60%), validation set (20%), and test set (20%)\n",
        "train_data, val_test_data, train_labels, val_test_labels = train_test_split(labeled_data['preprocessed_text'], labeled_data['sentiment'], test_size=0.4, random_state=42)\n",
        "val_data, test_data, val_labels, test_labels = train_test_split(val_test_data, val_test_labels, test_size=0.5, random_state=42)\n"
      ],
      "metadata": {
        "id": "p4N8b6X69VJQ"
      },
      "execution_count": null,
      "outputs": []
    },
    {
      "cell_type": "code",
      "source": [
        "import numpy as np\n",
        "from keras.utils import to_categorical\n",
        "from keras import models\n",
        "from keras import layers"
      ],
      "metadata": {
        "id": "diXcOEig9ZN2"
      },
      "execution_count": null,
      "outputs": []
    },
    {
      "cell_type": "markdown",
      "source": [
        "# First Model with Test validate split"
      ],
      "metadata": {
        "id": "PaJYnZvKw3K4"
      }
    },
    {
      "cell_type": "code",
      "source": [
        "import pandas as pd\n",
        "labeled_data=pd.read_csv('processed_modell_data.csv')"
      ],
      "metadata": {
        "id": "ER7edrFFRh8w"
      },
      "execution_count": 1,
      "outputs": []
    },
    {
      "cell_type": "code",
      "source": [
        "pip install keras.preprocessing.sequence\n"
      ],
      "metadata": {
        "colab": {
          "base_uri": "https://localhost:8080/"
        },
        "id": "5cHTIeOLTiqF",
        "outputId": "20f6552e-8b1a-4fd5-c672-1bfe35bb7e6a"
      },
      "execution_count": 2,
      "outputs": [
        {
          "output_type": "stream",
          "name": "stdout",
          "text": [
            "Looking in indexes: https://pypi.org/simple, https://us-python.pkg.dev/colab-wheels/public/simple/\n",
            "\u001b[31mERROR: Could not find a version that satisfies the requirement keras.preprocessing.sequence (from versions: none)\u001b[0m\u001b[31m\n",
            "\u001b[0m\u001b[31mERROR: No matching distribution found for keras.preprocessing.sequence\u001b[0m\u001b[31m\n",
            "\u001b[0m"
          ]
        }
      ]
    },
    {
      "cell_type": "code",
      "source": [
        "pip install transformers"
      ],
      "metadata": {
        "colab": {
          "base_uri": "https://localhost:8080/"
        },
        "id": "NHGASB9j0raK",
        "outputId": "aa1c316f-d112-4134-cd90-e8adab4e33c4"
      },
      "execution_count": 3,
      "outputs": [
        {
          "output_type": "stream",
          "name": "stdout",
          "text": [
            "Looking in indexes: https://pypi.org/simple, https://us-python.pkg.dev/colab-wheels/public/simple/\n",
            "Requirement already satisfied: transformers in /usr/local/lib/python3.8/dist-packages (4.26.0)\n",
            "Requirement already satisfied: packaging>=20.0 in /usr/local/lib/python3.8/dist-packages (from transformers) (21.3)\n",
            "Requirement already satisfied: tokenizers!=0.11.3,<0.14,>=0.11.1 in /usr/local/lib/python3.8/dist-packages (from transformers) (0.13.2)\n",
            "Requirement already satisfied: numpy>=1.17 in /usr/local/lib/python3.8/dist-packages (from transformers) (1.21.6)\n",
            "Requirement already satisfied: requests in /usr/local/lib/python3.8/dist-packages (from transformers) (2.25.1)\n",
            "Requirement already satisfied: filelock in /usr/local/lib/python3.8/dist-packages (from transformers) (3.9.0)\n",
            "Requirement already satisfied: pyyaml>=5.1 in /usr/local/lib/python3.8/dist-packages (from transformers) (6.0)\n",
            "Requirement already satisfied: regex!=2019.12.17 in /usr/local/lib/python3.8/dist-packages (from transformers) (2022.6.2)\n",
            "Requirement already satisfied: huggingface-hub<1.0,>=0.11.0 in /usr/local/lib/python3.8/dist-packages (from transformers) (0.12.0)\n",
            "Requirement already satisfied: tqdm>=4.27 in /usr/local/lib/python3.8/dist-packages (from transformers) (4.64.1)\n",
            "Requirement already satisfied: typing-extensions>=3.7.4.3 in /usr/local/lib/python3.8/dist-packages (from huggingface-hub<1.0,>=0.11.0->transformers) (4.4.0)\n",
            "Requirement already satisfied: pyparsing!=3.0.5,>=2.0.2 in /usr/local/lib/python3.8/dist-packages (from packaging>=20.0->transformers) (3.0.9)\n",
            "Requirement already satisfied: idna<3,>=2.5 in /usr/local/lib/python3.8/dist-packages (from requests->transformers) (2.10)\n",
            "Requirement already satisfied: certifi>=2017.4.17 in /usr/local/lib/python3.8/dist-packages (from requests->transformers) (2022.12.7)\n",
            "Requirement already satisfied: chardet<5,>=3.0.2 in /usr/local/lib/python3.8/dist-packages (from requests->transformers) (4.0.0)\n",
            "Requirement already satisfied: urllib3<1.27,>=1.21.1 in /usr/local/lib/python3.8/dist-packages (from requests->transformers) (1.24.3)\n"
          ]
        }
      ]
    },
    {
      "cell_type": "code",
      "source": [
        "from keras_preprocessing.sequence import pad_sequences\n"
      ],
      "metadata": {
        "id": "3Pg052yzTzcg"
      },
      "execution_count": 4,
      "outputs": []
    },
    {
      "cell_type": "code",
      "source": [
        "from torch.nn import CrossEntropyLoss\n",
        "import torch\n",
        "from transformers import BertForSequenceClassification, AdamW, BertTokenizer\n",
        "from torch.utils.data import TensorDataset, random_split\n",
        "\n",
        "# Load the BERT model and tokenizer\n",
        "model = BertForSequenceClassification.from_pretrained(\"bert-base-german-cased\")\n",
        "tokenizer = BertTokenizer.from_pretrained(\"bert-base-german-cased\")\n",
        "\n",
        "# Prepare the dataset\n",
        "tweets = labeled_data.text # your tweets dataset\n",
        "labels = labeled_data.sentiment.replace(['positiv', 'negativ', 'neutral'], [1, 0, 1])# the corresponding labels (0 for negative, 1 for positive)\n",
        "\n",
        "# Tokenize the tweets and convert them to input tensors\n",
        "\n",
        "input_ids = [tokenizer.encode(tweet, add_special_tokens=True) for tweet in tweets]\n",
        "attention_masks = [[1] * len(input_id) for input_id in input_ids]\n",
        "\n",
        "# Set the maximum sequence length\n",
        "MAX_LEN = 256\n",
        "\n",
        "# Pad the input sequences\n",
        "input_ids = pad_sequences(input_ids, maxlen=MAX_LEN, dtype=\"long\", truncating=\"post\", padding=\"post\")\n",
        "attention_masks = pad_sequences(attention_masks, maxlen=MAX_LEN, dtype=\"long\", truncating=\"post\", padding=\"post\")\n",
        "\n",
        "# Create the input tensors\n",
        "inputs = TensorDataset(torch.tensor(input_ids), torch.tensor(attention_masks), torch.tensor(labels))\n",
        "\n",
        "# Split the dataset into train and validation sets\n",
        "train_size=80\n",
        "train_inputs, validation_inputs = random_split(inputs, [train_size, len(inputs) - train_size])\n",
        "\n",
        "#Set the batch size and number of epochs\n",
        "batch_size = 32\n",
        "num_epochs = 5\n",
        "\n",
        "#Create the DataLoader for our training set\n",
        "train_dataloader = torch.utils.data.DataLoader(train_inputs, batch_size=batch_size, shuffle=True)\n",
        "\n",
        "#Create the DataLoader for our validation set\n",
        "validation_dataloader = torch.utils.data.DataLoader(validation_inputs, batch_size=batch_size, shuffle=True)\n",
        "\n",
        "#Create the Adam optimizer\n",
        "optimizer = AdamW(model.parameters(), lr=2e-5, eps=1e-8)\n",
        "\n",
        "#Create the loss function\n",
        "criterion = CrossEntropyLoss()\n",
        "\n",
        "#Set the device to run on (CPU or GPU)\n",
        "device = torch.device( \"cpu\")\n",
        "\n",
        "#Move the model and data to the device\n",
        "model.to(device)\n",
        "for inputs, attention_masks, labels in train_dataloader:\n",
        "    inputs = inputs.to(device)\n",
        "    attention_masks = attention_masks.to(device)\n",
        "    labels = labels.to(device)\n",
        "\n",
        "\n",
        "#Train the model\n",
        "for epoch in range(num_epochs):\n",
        "  for inputs, attention_masks, labels in train_dataloader:\n",
        "    optimizer.zero_grad()\n",
        "    outputs = model(inputs, attention_masks)\n",
        "    loss = criterion(outputs[0], labels)\n",
        "    loss.backward()\n",
        "    optimizer.step()\n",
        "  #Validate the model\n",
        "  model.eval()\n",
        "  with torch.no_grad():\n",
        "    correct = 0\n",
        "    total = 0\n",
        "    for inputs, attention_masks, labels in validation_dataloader:\n",
        "      outputs = model(inputs, attention_masks)\n",
        "      _,predicted = torch.max(outputs.logits.data, 1)\n",
        "      total += labels.size(0)\n",
        "      correct += (predicted == labels).sum().item()\n",
        "      accuracy = correct / total\n",
        "  print(\"Accuracy: {:.2f}%\".format(accuracy * 100))\n",
        "\n",
        "#Save the model\n",
        "torch.save(model.state_dict(), \"bert_model.pt\")"
      ],
      "metadata": {
        "id": "-GKUe8K95Mfd",
        "colab": {
          "base_uri": "https://localhost:8080/"
        },
        "outputId": "ae665614-fdf5-45a1-9873-4ec5f551e19c"
      },
      "execution_count": 6,
      "outputs": [
        {
          "output_type": "stream",
          "name": "stderr",
          "text": [
            "Some weights of the model checkpoint at bert-base-german-cased were not used when initializing BertForSequenceClassification: ['cls.seq_relationship.bias', 'cls.predictions.transform.dense.bias', 'cls.predictions.decoder.weight', 'cls.seq_relationship.weight', 'cls.predictions.transform.LayerNorm.bias', 'cls.predictions.bias', 'cls.predictions.transform.dense.weight', 'cls.predictions.transform.LayerNorm.weight']\n",
            "- This IS expected if you are initializing BertForSequenceClassification from the checkpoint of a model trained on another task or with another architecture (e.g. initializing a BertForSequenceClassification model from a BertForPreTraining model).\n",
            "- This IS NOT expected if you are initializing BertForSequenceClassification from the checkpoint of a model that you expect to be exactly identical (initializing a BertForSequenceClassification model from a BertForSequenceClassification model).\n",
            "Some weights of BertForSequenceClassification were not initialized from the model checkpoint at bert-base-german-cased and are newly initialized: ['classifier.weight', 'classifier.bias']\n",
            "You should probably TRAIN this model on a down-stream task to be able to use it for predictions and inference.\n"
          ]
        },
        {
          "output_type": "stream",
          "name": "stdout",
          "text": [
            "Accuracy: 73.18%\n",
            "Accuracy: 73.18%\n",
            "Accuracy: 75.00%\n",
            "Accuracy: 74.55%\n",
            "Accuracy: 75.45%\n"
          ]
        }
      ]
    },
    {
      "cell_type": "code",
      "source": [
        "target_tweets=pd.read_csv('rest_of_tweets.csv')"
      ],
      "metadata": {
        "id": "H0T9Zb11Gtz3"
      },
      "execution_count": 8,
      "outputs": []
    },
    {
      "cell_type": "code",
      "source": [
        "target_tweets.head()"
      ],
      "metadata": {
        "colab": {
          "base_uri": "https://localhost:8080/",
          "height": 206
        },
        "id": "_XZQGKFRQj84",
        "outputId": "c476cca3-7e04-444d-c123-8b26f24ed0fc"
      },
      "execution_count": 8,
      "outputs": [
        {
          "output_type": "execute_result",
          "data": {
            "text/plain": [
              "                                                text\n",
              "0  team vom bei recherche über gastarbeiter kurzz...\n",
              "1  und in so einem land soll die wm stattfinden w...\n",
              "2  und ardfernsehteam bei recherchen zur situatio...\n",
              "3  bei recherchearbeiten in katar zur fußballwm w...\n",
              "4  obwohl und brav die tvrechte für die gekauft h..."
            ],
            "text/html": [
              "\n",
              "  <div id=\"df-cb4cde95-9d9d-481d-9d24-83090503079b\">\n",
              "    <div class=\"colab-df-container\">\n",
              "      <div>\n",
              "<style scoped>\n",
              "    .dataframe tbody tr th:only-of-type {\n",
              "        vertical-align: middle;\n",
              "    }\n",
              "\n",
              "    .dataframe tbody tr th {\n",
              "        vertical-align: top;\n",
              "    }\n",
              "\n",
              "    .dataframe thead th {\n",
              "        text-align: right;\n",
              "    }\n",
              "</style>\n",
              "<table border=\"1\" class=\"dataframe\">\n",
              "  <thead>\n",
              "    <tr style=\"text-align: right;\">\n",
              "      <th></th>\n",
              "      <th>text</th>\n",
              "    </tr>\n",
              "  </thead>\n",
              "  <tbody>\n",
              "    <tr>\n",
              "      <th>0</th>\n",
              "      <td>team vom bei recherche über gastarbeiter kurzz...</td>\n",
              "    </tr>\n",
              "    <tr>\n",
              "      <th>1</th>\n",
              "      <td>und in so einem land soll die wm stattfinden w...</td>\n",
              "    </tr>\n",
              "    <tr>\n",
              "      <th>2</th>\n",
              "      <td>und ardfernsehteam bei recherchen zur situatio...</td>\n",
              "    </tr>\n",
              "    <tr>\n",
              "      <th>3</th>\n",
              "      <td>bei recherchearbeiten in katar zur fußballwm w...</td>\n",
              "    </tr>\n",
              "    <tr>\n",
              "      <th>4</th>\n",
              "      <td>obwohl und brav die tvrechte für die gekauft h...</td>\n",
              "    </tr>\n",
              "  </tbody>\n",
              "</table>\n",
              "</div>\n",
              "      <button class=\"colab-df-convert\" onclick=\"convertToInteractive('df-cb4cde95-9d9d-481d-9d24-83090503079b')\"\n",
              "              title=\"Convert this dataframe to an interactive table.\"\n",
              "              style=\"display:none;\">\n",
              "        \n",
              "  <svg xmlns=\"http://www.w3.org/2000/svg\" height=\"24px\"viewBox=\"0 0 24 24\"\n",
              "       width=\"24px\">\n",
              "    <path d=\"M0 0h24v24H0V0z\" fill=\"none\"/>\n",
              "    <path d=\"M18.56 5.44l.94 2.06.94-2.06 2.06-.94-2.06-.94-.94-2.06-.94 2.06-2.06.94zm-11 1L8.5 8.5l.94-2.06 2.06-.94-2.06-.94L8.5 2.5l-.94 2.06-2.06.94zm10 10l.94 2.06.94-2.06 2.06-.94-2.06-.94-.94-2.06-.94 2.06-2.06.94z\"/><path d=\"M17.41 7.96l-1.37-1.37c-.4-.4-.92-.59-1.43-.59-.52 0-1.04.2-1.43.59L10.3 9.45l-7.72 7.72c-.78.78-.78 2.05 0 2.83L4 21.41c.39.39.9.59 1.41.59.51 0 1.02-.2 1.41-.59l7.78-7.78 2.81-2.81c.8-.78.8-2.07 0-2.86zM5.41 20L4 18.59l7.72-7.72 1.47 1.35L5.41 20z\"/>\n",
              "  </svg>\n",
              "      </button>\n",
              "      \n",
              "  <style>\n",
              "    .colab-df-container {\n",
              "      display:flex;\n",
              "      flex-wrap:wrap;\n",
              "      gap: 12px;\n",
              "    }\n",
              "\n",
              "    .colab-df-convert {\n",
              "      background-color: #E8F0FE;\n",
              "      border: none;\n",
              "      border-radius: 50%;\n",
              "      cursor: pointer;\n",
              "      display: none;\n",
              "      fill: #1967D2;\n",
              "      height: 32px;\n",
              "      padding: 0 0 0 0;\n",
              "      width: 32px;\n",
              "    }\n",
              "\n",
              "    .colab-df-convert:hover {\n",
              "      background-color: #E2EBFA;\n",
              "      box-shadow: 0px 1px 2px rgba(60, 64, 67, 0.3), 0px 1px 3px 1px rgba(60, 64, 67, 0.15);\n",
              "      fill: #174EA6;\n",
              "    }\n",
              "\n",
              "    [theme=dark] .colab-df-convert {\n",
              "      background-color: #3B4455;\n",
              "      fill: #D2E3FC;\n",
              "    }\n",
              "\n",
              "    [theme=dark] .colab-df-convert:hover {\n",
              "      background-color: #434B5C;\n",
              "      box-shadow: 0px 1px 3px 1px rgba(0, 0, 0, 0.15);\n",
              "      filter: drop-shadow(0px 1px 2px rgba(0, 0, 0, 0.3));\n",
              "      fill: #FFFFFF;\n",
              "    }\n",
              "  </style>\n",
              "\n",
              "      <script>\n",
              "        const buttonEl =\n",
              "          document.querySelector('#df-cb4cde95-9d9d-481d-9d24-83090503079b button.colab-df-convert');\n",
              "        buttonEl.style.display =\n",
              "          google.colab.kernel.accessAllowed ? 'block' : 'none';\n",
              "\n",
              "        async function convertToInteractive(key) {\n",
              "          const element = document.querySelector('#df-cb4cde95-9d9d-481d-9d24-83090503079b');\n",
              "          const dataTable =\n",
              "            await google.colab.kernel.invokeFunction('convertToInteractive',\n",
              "                                                     [key], {});\n",
              "          if (!dataTable) return;\n",
              "\n",
              "          const docLinkHtml = 'Like what you see? Visit the ' +\n",
              "            '<a target=\"_blank\" href=https://colab.research.google.com/notebooks/data_table.ipynb>data table notebook</a>'\n",
              "            + ' to learn more about interactive tables.';\n",
              "          element.innerHTML = '';\n",
              "          dataTable['output_type'] = 'display_data';\n",
              "          await google.colab.output.renderOutput(dataTable, element);\n",
              "          const docLink = document.createElement('div');\n",
              "          docLink.innerHTML = docLinkHtml;\n",
              "          element.appendChild(docLink);\n",
              "        }\n",
              "      </script>\n",
              "    </div>\n",
              "  </div>\n",
              "  "
            ]
          },
          "metadata": {},
          "execution_count": 8
        }
      ]
    },
    {
      "cell_type": "code",
      "source": [
        "target_tweets['text'] = target_tweets.text.apply(lambda x: preprocess(x, german_stop_words))\n"
      ],
      "metadata": {
        "id": "nHItbU7hQmsW"
      },
      "execution_count": 24,
      "outputs": []
    },
    {
      "cell_type": "code",
      "source": [
        "target_tweets.head()"
      ],
      "metadata": {
        "colab": {
          "base_uri": "https://localhost:8080/",
          "height": 206
        },
        "id": "h3M8-ypKRT50",
        "outputId": "7baabb98-4fe3-4a2c-b7bc-22e4a8e1a8b4"
      },
      "execution_count": 25,
      "outputs": [
        {
          "output_type": "execute_result",
          "data": {
            "text/plain": [
              "                                                text\n",
              "0  team recherche gastarbeiter kurzzeitig festgen...\n",
              "1  land wm stattfinden eigentlich passieren krank...\n",
              "2  ardfernsehteam recherchen situation gastarbeit...\n",
              "3  recherchearbeiten katar fußballwm wurde zdf ka...\n",
              "4                       obwohl brav tvrechte gekauft"
            ],
            "text/html": [
              "\n",
              "  <div id=\"df-29e0ff8f-9247-46d8-aa92-16bf80731a8e\">\n",
              "    <div class=\"colab-df-container\">\n",
              "      <div>\n",
              "<style scoped>\n",
              "    .dataframe tbody tr th:only-of-type {\n",
              "        vertical-align: middle;\n",
              "    }\n",
              "\n",
              "    .dataframe tbody tr th {\n",
              "        vertical-align: top;\n",
              "    }\n",
              "\n",
              "    .dataframe thead th {\n",
              "        text-align: right;\n",
              "    }\n",
              "</style>\n",
              "<table border=\"1\" class=\"dataframe\">\n",
              "  <thead>\n",
              "    <tr style=\"text-align: right;\">\n",
              "      <th></th>\n",
              "      <th>text</th>\n",
              "    </tr>\n",
              "  </thead>\n",
              "  <tbody>\n",
              "    <tr>\n",
              "      <th>0</th>\n",
              "      <td>team recherche gastarbeiter kurzzeitig festgen...</td>\n",
              "    </tr>\n",
              "    <tr>\n",
              "      <th>1</th>\n",
              "      <td>land wm stattfinden eigentlich passieren krank...</td>\n",
              "    </tr>\n",
              "    <tr>\n",
              "      <th>2</th>\n",
              "      <td>ardfernsehteam recherchen situation gastarbeit...</td>\n",
              "    </tr>\n",
              "    <tr>\n",
              "      <th>3</th>\n",
              "      <td>recherchearbeiten katar fußballwm wurde zdf ka...</td>\n",
              "    </tr>\n",
              "    <tr>\n",
              "      <th>4</th>\n",
              "      <td>obwohl brav tvrechte gekauft</td>\n",
              "    </tr>\n",
              "  </tbody>\n",
              "</table>\n",
              "</div>\n",
              "      <button class=\"colab-df-convert\" onclick=\"convertToInteractive('df-29e0ff8f-9247-46d8-aa92-16bf80731a8e')\"\n",
              "              title=\"Convert this dataframe to an interactive table.\"\n",
              "              style=\"display:none;\">\n",
              "        \n",
              "  <svg xmlns=\"http://www.w3.org/2000/svg\" height=\"24px\"viewBox=\"0 0 24 24\"\n",
              "       width=\"24px\">\n",
              "    <path d=\"M0 0h24v24H0V0z\" fill=\"none\"/>\n",
              "    <path d=\"M18.56 5.44l.94 2.06.94-2.06 2.06-.94-2.06-.94-.94-2.06-.94 2.06-2.06.94zm-11 1L8.5 8.5l.94-2.06 2.06-.94-2.06-.94L8.5 2.5l-.94 2.06-2.06.94zm10 10l.94 2.06.94-2.06 2.06-.94-2.06-.94-.94-2.06-.94 2.06-2.06.94z\"/><path d=\"M17.41 7.96l-1.37-1.37c-.4-.4-.92-.59-1.43-.59-.52 0-1.04.2-1.43.59L10.3 9.45l-7.72 7.72c-.78.78-.78 2.05 0 2.83L4 21.41c.39.39.9.59 1.41.59.51 0 1.02-.2 1.41-.59l7.78-7.78 2.81-2.81c.8-.78.8-2.07 0-2.86zM5.41 20L4 18.59l7.72-7.72 1.47 1.35L5.41 20z\"/>\n",
              "  </svg>\n",
              "      </button>\n",
              "      \n",
              "  <style>\n",
              "    .colab-df-container {\n",
              "      display:flex;\n",
              "      flex-wrap:wrap;\n",
              "      gap: 12px;\n",
              "    }\n",
              "\n",
              "    .colab-df-convert {\n",
              "      background-color: #E8F0FE;\n",
              "      border: none;\n",
              "      border-radius: 50%;\n",
              "      cursor: pointer;\n",
              "      display: none;\n",
              "      fill: #1967D2;\n",
              "      height: 32px;\n",
              "      padding: 0 0 0 0;\n",
              "      width: 32px;\n",
              "    }\n",
              "\n",
              "    .colab-df-convert:hover {\n",
              "      background-color: #E2EBFA;\n",
              "      box-shadow: 0px 1px 2px rgba(60, 64, 67, 0.3), 0px 1px 3px 1px rgba(60, 64, 67, 0.15);\n",
              "      fill: #174EA6;\n",
              "    }\n",
              "\n",
              "    [theme=dark] .colab-df-convert {\n",
              "      background-color: #3B4455;\n",
              "      fill: #D2E3FC;\n",
              "    }\n",
              "\n",
              "    [theme=dark] .colab-df-convert:hover {\n",
              "      background-color: #434B5C;\n",
              "      box-shadow: 0px 1px 3px 1px rgba(0, 0, 0, 0.15);\n",
              "      filter: drop-shadow(0px 1px 2px rgba(0, 0, 0, 0.3));\n",
              "      fill: #FFFFFF;\n",
              "    }\n",
              "  </style>\n",
              "\n",
              "      <script>\n",
              "        const buttonEl =\n",
              "          document.querySelector('#df-29e0ff8f-9247-46d8-aa92-16bf80731a8e button.colab-df-convert');\n",
              "        buttonEl.style.display =\n",
              "          google.colab.kernel.accessAllowed ? 'block' : 'none';\n",
              "\n",
              "        async function convertToInteractive(key) {\n",
              "          const element = document.querySelector('#df-29e0ff8f-9247-46d8-aa92-16bf80731a8e');\n",
              "          const dataTable =\n",
              "            await google.colab.kernel.invokeFunction('convertToInteractive',\n",
              "                                                     [key], {});\n",
              "          if (!dataTable) return;\n",
              "\n",
              "          const docLinkHtml = 'Like what you see? Visit the ' +\n",
              "            '<a target=\"_blank\" href=https://colab.research.google.com/notebooks/data_table.ipynb>data table notebook</a>'\n",
              "            + ' to learn more about interactive tables.';\n",
              "          element.innerHTML = '';\n",
              "          dataTable['output_type'] = 'display_data';\n",
              "          await google.colab.output.renderOutput(dataTable, element);\n",
              "          const docLink = document.createElement('div');\n",
              "          docLink.innerHTML = docLinkHtml;\n",
              "          element.appendChild(docLink);\n",
              "        }\n",
              "      </script>\n",
              "    </div>\n",
              "  </div>\n",
              "  "
            ]
          },
          "metadata": {},
          "execution_count": 25
        }
      ]
    },
    {
      "cell_type": "code",
      "source": [
        "# Create an empty dataframe\n",
        "df = pd.DataFrame()\n",
        "\n",
        "# Add the tweet_text column to the dataframe\n",
        "df['tweet_text'] = [\"Das ist ein Postiv Tweet WM\",'darf teilnehmerland hierauf antwort boycott wm.']"
      ],
      "metadata": {
        "id": "VKk4nwkPVLIO"
      },
      "execution_count": 67,
      "outputs": []
    },
    {
      "cell_type": "markdown",
      "source": [
        "Predecton Function"
      ],
      "metadata": {
        "id": "DNanNZZ_apnn"
      }
    },
    {
      "cell_type": "code",
      "source": [
        "import pandas as pd\n",
        "\n",
        "def predict_sentiment(df,column_name):\n",
        "\n",
        "  # Iterate over the rows in the dataframe\n",
        "  for index, row in df.iterrows():\n",
        "      # Encode the tweet text\n",
        "      encoded_tweet = tokenizer.encode(row[column_name], add_special_tokens=True)\n",
        "      input_ids = torch.tensor(encoded_tweet).unsqueeze(0)\n",
        "      attention_masks = [[1] * len(input_id) for input_id in input_ids]\n",
        "      attention_masks = torch.tensor(attention_masks)\n",
        "      input_ids = input_ids.to(device)\n",
        "      attention_masks = attention_masks.to(device)\n",
        "      outputs = model(input_ids, attention_masks)\n",
        "      _, predicted = torch.max(outputs.logits.data, 1)\n",
        "      # Check if the predicted label is positive/neutral\n",
        "      if predicted.item() == 1:\n",
        "          predicted = \"Postiv/neutral\"\n",
        "      else:\n",
        "          predicted = \"Negativ\"\n",
        "      # Add the sentiment column to the dataframe and assign the predicted value to the corresponding row\n",
        "      df.at[index, 'sentiment'] = predicted\n",
        "  return df\n"
      ],
      "metadata": {
        "id": "2uDmbr99Rrsp"
      },
      "execution_count": 5,
      "outputs": []
    },
    {
      "cell_type": "code",
      "source": [
        "mm=predict_sentiment(df,'tweet_text')"
      ],
      "metadata": {
        "id": "1LxHQGCGS4a3"
      },
      "execution_count": 68,
      "outputs": []
    },
    {
      "cell_type": "code",
      "source": [
        "mm.head()"
      ],
      "metadata": {
        "colab": {
          "base_uri": "https://localhost:8080/",
          "height": 112
        },
        "id": "lcrAv5vtWgPr",
        "outputId": "ae17c4f4-cc01-4743-e760-f155a8653a4c"
      },
      "execution_count": 69,
      "outputs": [
        {
          "output_type": "execute_result",
          "data": {
            "text/plain": [
              "                                        tweet_text       sentiment\n",
              "0                      Das ist ein Postiv Tweet WM  Postiv/neutral\n",
              "1  darf teilnehmerland hierauf antwort boycott wm.  Postiv/neutral"
            ],
            "text/html": [
              "\n",
              "  <div id=\"df-62ee2e89-1bfc-42b9-946d-8b4b1b9dfc61\">\n",
              "    <div class=\"colab-df-container\">\n",
              "      <div>\n",
              "<style scoped>\n",
              "    .dataframe tbody tr th:only-of-type {\n",
              "        vertical-align: middle;\n",
              "    }\n",
              "\n",
              "    .dataframe tbody tr th {\n",
              "        vertical-align: top;\n",
              "    }\n",
              "\n",
              "    .dataframe thead th {\n",
              "        text-align: right;\n",
              "    }\n",
              "</style>\n",
              "<table border=\"1\" class=\"dataframe\">\n",
              "  <thead>\n",
              "    <tr style=\"text-align: right;\">\n",
              "      <th></th>\n",
              "      <th>tweet_text</th>\n",
              "      <th>sentiment</th>\n",
              "    </tr>\n",
              "  </thead>\n",
              "  <tbody>\n",
              "    <tr>\n",
              "      <th>0</th>\n",
              "      <td>Das ist ein Postiv Tweet WM</td>\n",
              "      <td>Postiv/neutral</td>\n",
              "    </tr>\n",
              "    <tr>\n",
              "      <th>1</th>\n",
              "      <td>darf teilnehmerland hierauf antwort boycott wm.</td>\n",
              "      <td>Postiv/neutral</td>\n",
              "    </tr>\n",
              "  </tbody>\n",
              "</table>\n",
              "</div>\n",
              "      <button class=\"colab-df-convert\" onclick=\"convertToInteractive('df-62ee2e89-1bfc-42b9-946d-8b4b1b9dfc61')\"\n",
              "              title=\"Convert this dataframe to an interactive table.\"\n",
              "              style=\"display:none;\">\n",
              "        \n",
              "  <svg xmlns=\"http://www.w3.org/2000/svg\" height=\"24px\"viewBox=\"0 0 24 24\"\n",
              "       width=\"24px\">\n",
              "    <path d=\"M0 0h24v24H0V0z\" fill=\"none\"/>\n",
              "    <path d=\"M18.56 5.44l.94 2.06.94-2.06 2.06-.94-2.06-.94-.94-2.06-.94 2.06-2.06.94zm-11 1L8.5 8.5l.94-2.06 2.06-.94-2.06-.94L8.5 2.5l-.94 2.06-2.06.94zm10 10l.94 2.06.94-2.06 2.06-.94-2.06-.94-.94-2.06-.94 2.06-2.06.94z\"/><path d=\"M17.41 7.96l-1.37-1.37c-.4-.4-.92-.59-1.43-.59-.52 0-1.04.2-1.43.59L10.3 9.45l-7.72 7.72c-.78.78-.78 2.05 0 2.83L4 21.41c.39.39.9.59 1.41.59.51 0 1.02-.2 1.41-.59l7.78-7.78 2.81-2.81c.8-.78.8-2.07 0-2.86zM5.41 20L4 18.59l7.72-7.72 1.47 1.35L5.41 20z\"/>\n",
              "  </svg>\n",
              "      </button>\n",
              "      \n",
              "  <style>\n",
              "    .colab-df-container {\n",
              "      display:flex;\n",
              "      flex-wrap:wrap;\n",
              "      gap: 12px;\n",
              "    }\n",
              "\n",
              "    .colab-df-convert {\n",
              "      background-color: #E8F0FE;\n",
              "      border: none;\n",
              "      border-radius: 50%;\n",
              "      cursor: pointer;\n",
              "      display: none;\n",
              "      fill: #1967D2;\n",
              "      height: 32px;\n",
              "      padding: 0 0 0 0;\n",
              "      width: 32px;\n",
              "    }\n",
              "\n",
              "    .colab-df-convert:hover {\n",
              "      background-color: #E2EBFA;\n",
              "      box-shadow: 0px 1px 2px rgba(60, 64, 67, 0.3), 0px 1px 3px 1px rgba(60, 64, 67, 0.15);\n",
              "      fill: #174EA6;\n",
              "    }\n",
              "\n",
              "    [theme=dark] .colab-df-convert {\n",
              "      background-color: #3B4455;\n",
              "      fill: #D2E3FC;\n",
              "    }\n",
              "\n",
              "    [theme=dark] .colab-df-convert:hover {\n",
              "      background-color: #434B5C;\n",
              "      box-shadow: 0px 1px 3px 1px rgba(0, 0, 0, 0.15);\n",
              "      filter: drop-shadow(0px 1px 2px rgba(0, 0, 0, 0.3));\n",
              "      fill: #FFFFFF;\n",
              "    }\n",
              "  </style>\n",
              "\n",
              "      <script>\n",
              "        const buttonEl =\n",
              "          document.querySelector('#df-62ee2e89-1bfc-42b9-946d-8b4b1b9dfc61 button.colab-df-convert');\n",
              "        buttonEl.style.display =\n",
              "          google.colab.kernel.accessAllowed ? 'block' : 'none';\n",
              "\n",
              "        async function convertToInteractive(key) {\n",
              "          const element = document.querySelector('#df-62ee2e89-1bfc-42b9-946d-8b4b1b9dfc61');\n",
              "          const dataTable =\n",
              "            await google.colab.kernel.invokeFunction('convertToInteractive',\n",
              "                                                     [key], {});\n",
              "          if (!dataTable) return;\n",
              "\n",
              "          const docLinkHtml = 'Like what you see? Visit the ' +\n",
              "            '<a target=\"_blank\" href=https://colab.research.google.com/notebooks/data_table.ipynb>data table notebook</a>'\n",
              "            + ' to learn more about interactive tables.';\n",
              "          element.innerHTML = '';\n",
              "          dataTable['output_type'] = 'display_data';\n",
              "          await google.colab.output.renderOutput(dataTable, element);\n",
              "          const docLink = document.createElement('div');\n",
              "          docLink.innerHTML = docLinkHtml;\n",
              "          element.appendChild(docLink);\n",
              "        }\n",
              "      </script>\n",
              "    </div>\n",
              "  </div>\n",
              "  "
            ]
          },
          "metadata": {},
          "execution_count": 69
        }
      ]
    },
    {
      "cell_type": "code",
      "source": [
        "predicted_tweets = predict_sentiment(target_tweets,'text')"
      ],
      "metadata": {
        "id": "id6qvYmIV0lx"
      },
      "execution_count": 70,
      "outputs": []
    },
    {
      "cell_type": "code",
      "source": [
        "predicted_tweets.head(10)"
      ],
      "metadata": {
        "colab": {
          "base_uri": "https://localhost:8080/",
          "height": 363
        },
        "id": "64kS63u9W6jL",
        "outputId": "f24b2066-2711-4b8e-afa8-016ecd168a2e"
      },
      "execution_count": 77,
      "outputs": [
        {
          "output_type": "execute_result",
          "data": {
            "text/plain": [
              "                                                text       sentiment\n",
              "0  team recherche gastarbeiter kurzzeitig festgen...         Negativ\n",
              "1  land wm stattfinden eigentlich passieren krank...  Postiv/neutral\n",
              "2  ardfernsehteam recherchen situation gastarbeit...  Postiv/neutral\n",
              "3  recherchearbeiten katar fußballwm wurde zdf ka...         Negativ\n",
              "4                       obwohl brav tvrechte gekauft  Postiv/neutral\n",
              "5  belgischen zweitligisten übernommen spieler au...  Postiv/neutral\n",
              "6  gewusst katar belgischen fußballclub ka eupen ...  Postiv/neutral\n",
              "7  muhahahaha mindestens 5 jahre verschoben züge ...  Postiv/neutral\n",
              "8              41 neue s 11600 zimmern gebaut gt via  Postiv/neutral\n",
              "9  franz baukonzern wg zwangsarbeit zusammenhang ...  Postiv/neutral"
            ],
            "text/html": [
              "\n",
              "  <div id=\"df-af91c1e6-4aa6-4ff9-af53-fc29907cc8b6\">\n",
              "    <div class=\"colab-df-container\">\n",
              "      <div>\n",
              "<style scoped>\n",
              "    .dataframe tbody tr th:only-of-type {\n",
              "        vertical-align: middle;\n",
              "    }\n",
              "\n",
              "    .dataframe tbody tr th {\n",
              "        vertical-align: top;\n",
              "    }\n",
              "\n",
              "    .dataframe thead th {\n",
              "        text-align: right;\n",
              "    }\n",
              "</style>\n",
              "<table border=\"1\" class=\"dataframe\">\n",
              "  <thead>\n",
              "    <tr style=\"text-align: right;\">\n",
              "      <th></th>\n",
              "      <th>text</th>\n",
              "      <th>sentiment</th>\n",
              "    </tr>\n",
              "  </thead>\n",
              "  <tbody>\n",
              "    <tr>\n",
              "      <th>0</th>\n",
              "      <td>team recherche gastarbeiter kurzzeitig festgen...</td>\n",
              "      <td>Negativ</td>\n",
              "    </tr>\n",
              "    <tr>\n",
              "      <th>1</th>\n",
              "      <td>land wm stattfinden eigentlich passieren krank...</td>\n",
              "      <td>Postiv/neutral</td>\n",
              "    </tr>\n",
              "    <tr>\n",
              "      <th>2</th>\n",
              "      <td>ardfernsehteam recherchen situation gastarbeit...</td>\n",
              "      <td>Postiv/neutral</td>\n",
              "    </tr>\n",
              "    <tr>\n",
              "      <th>3</th>\n",
              "      <td>recherchearbeiten katar fußballwm wurde zdf ka...</td>\n",
              "      <td>Negativ</td>\n",
              "    </tr>\n",
              "    <tr>\n",
              "      <th>4</th>\n",
              "      <td>obwohl brav tvrechte gekauft</td>\n",
              "      <td>Postiv/neutral</td>\n",
              "    </tr>\n",
              "    <tr>\n",
              "      <th>5</th>\n",
              "      <td>belgischen zweitligisten übernommen spieler au...</td>\n",
              "      <td>Postiv/neutral</td>\n",
              "    </tr>\n",
              "    <tr>\n",
              "      <th>6</th>\n",
              "      <td>gewusst katar belgischen fußballclub ka eupen ...</td>\n",
              "      <td>Postiv/neutral</td>\n",
              "    </tr>\n",
              "    <tr>\n",
              "      <th>7</th>\n",
              "      <td>muhahahaha mindestens 5 jahre verschoben züge ...</td>\n",
              "      <td>Postiv/neutral</td>\n",
              "    </tr>\n",
              "    <tr>\n",
              "      <th>8</th>\n",
              "      <td>41 neue s 11600 zimmern gebaut gt via</td>\n",
              "      <td>Postiv/neutral</td>\n",
              "    </tr>\n",
              "    <tr>\n",
              "      <th>9</th>\n",
              "      <td>franz baukonzern wg zwangsarbeit zusammenhang ...</td>\n",
              "      <td>Postiv/neutral</td>\n",
              "    </tr>\n",
              "  </tbody>\n",
              "</table>\n",
              "</div>\n",
              "      <button class=\"colab-df-convert\" onclick=\"convertToInteractive('df-af91c1e6-4aa6-4ff9-af53-fc29907cc8b6')\"\n",
              "              title=\"Convert this dataframe to an interactive table.\"\n",
              "              style=\"display:none;\">\n",
              "        \n",
              "  <svg xmlns=\"http://www.w3.org/2000/svg\" height=\"24px\"viewBox=\"0 0 24 24\"\n",
              "       width=\"24px\">\n",
              "    <path d=\"M0 0h24v24H0V0z\" fill=\"none\"/>\n",
              "    <path d=\"M18.56 5.44l.94 2.06.94-2.06 2.06-.94-2.06-.94-.94-2.06-.94 2.06-2.06.94zm-11 1L8.5 8.5l.94-2.06 2.06-.94-2.06-.94L8.5 2.5l-.94 2.06-2.06.94zm10 10l.94 2.06.94-2.06 2.06-.94-2.06-.94-.94-2.06-.94 2.06-2.06.94z\"/><path d=\"M17.41 7.96l-1.37-1.37c-.4-.4-.92-.59-1.43-.59-.52 0-1.04.2-1.43.59L10.3 9.45l-7.72 7.72c-.78.78-.78 2.05 0 2.83L4 21.41c.39.39.9.59 1.41.59.51 0 1.02-.2 1.41-.59l7.78-7.78 2.81-2.81c.8-.78.8-2.07 0-2.86zM5.41 20L4 18.59l7.72-7.72 1.47 1.35L5.41 20z\"/>\n",
              "  </svg>\n",
              "      </button>\n",
              "      \n",
              "  <style>\n",
              "    .colab-df-container {\n",
              "      display:flex;\n",
              "      flex-wrap:wrap;\n",
              "      gap: 12px;\n",
              "    }\n",
              "\n",
              "    .colab-df-convert {\n",
              "      background-color: #E8F0FE;\n",
              "      border: none;\n",
              "      border-radius: 50%;\n",
              "      cursor: pointer;\n",
              "      display: none;\n",
              "      fill: #1967D2;\n",
              "      height: 32px;\n",
              "      padding: 0 0 0 0;\n",
              "      width: 32px;\n",
              "    }\n",
              "\n",
              "    .colab-df-convert:hover {\n",
              "      background-color: #E2EBFA;\n",
              "      box-shadow: 0px 1px 2px rgba(60, 64, 67, 0.3), 0px 1px 3px 1px rgba(60, 64, 67, 0.15);\n",
              "      fill: #174EA6;\n",
              "    }\n",
              "\n",
              "    [theme=dark] .colab-df-convert {\n",
              "      background-color: #3B4455;\n",
              "      fill: #D2E3FC;\n",
              "    }\n",
              "\n",
              "    [theme=dark] .colab-df-convert:hover {\n",
              "      background-color: #434B5C;\n",
              "      box-shadow: 0px 1px 3px 1px rgba(0, 0, 0, 0.15);\n",
              "      filter: drop-shadow(0px 1px 2px rgba(0, 0, 0, 0.3));\n",
              "      fill: #FFFFFF;\n",
              "    }\n",
              "  </style>\n",
              "\n",
              "      <script>\n",
              "        const buttonEl =\n",
              "          document.querySelector('#df-af91c1e6-4aa6-4ff9-af53-fc29907cc8b6 button.colab-df-convert');\n",
              "        buttonEl.style.display =\n",
              "          google.colab.kernel.accessAllowed ? 'block' : 'none';\n",
              "\n",
              "        async function convertToInteractive(key) {\n",
              "          const element = document.querySelector('#df-af91c1e6-4aa6-4ff9-af53-fc29907cc8b6');\n",
              "          const dataTable =\n",
              "            await google.colab.kernel.invokeFunction('convertToInteractive',\n",
              "                                                     [key], {});\n",
              "          if (!dataTable) return;\n",
              "\n",
              "          const docLinkHtml = 'Like what you see? Visit the ' +\n",
              "            '<a target=\"_blank\" href=https://colab.research.google.com/notebooks/data_table.ipynb>data table notebook</a>'\n",
              "            + ' to learn more about interactive tables.';\n",
              "          element.innerHTML = '';\n",
              "          dataTable['output_type'] = 'display_data';\n",
              "          await google.colab.output.renderOutput(dataTable, element);\n",
              "          const docLink = document.createElement('div');\n",
              "          docLink.innerHTML = docLinkHtml;\n",
              "          element.appendChild(docLink);\n",
              "        }\n",
              "      </script>\n",
              "    </div>\n",
              "  </div>\n",
              "  "
            ]
          },
          "metadata": {},
          "execution_count": 77
        }
      ]
    },
    {
      "cell_type": "markdown",
      "source": [
        "# Second Modell Enhamced with Train, Valdiate, Test split"
      ],
      "metadata": {
        "id": "l_OWRcZtaadR"
      }
    },
    {
      "cell_type": "code",
      "source": [
        "from torch.nn import CrossEntropyLoss\n",
        "import torch\n",
        "import numpy\n",
        "from transformers import BertForSequenceClassification, AdamW, BertTokenizer\n",
        "from torch.utils.data import TensorDataset, random_split\n",
        "from sklearn.model_selection import train_test_split\n",
        "from sklearn.metrics import confusion_matrix, classification_report, f1_score\n",
        "from keras_preprocessing.sequence import pad_sequences\n",
        "\n",
        "\n",
        "# Load the BERT model and tokenizer\n",
        "model = BertForSequenceClassification.from_pretrained(\"bert-base-german-cased\")\n",
        "tokenizer = BertTokenizer.from_pretrained(\"bert-base-german-cased\")\n",
        "\n",
        "# Prepare the dataset\n",
        "tweets = labeled_data.text # your tweets dataset\n",
        "labels = labeled_data.sentiment.replace(['positiv', 'negativ', 'neutral'], [1, 0, 1])# the corresponding labels (0 for negative, 1 for positive)\n",
        "\n",
        "\n",
        "# Tokenize the tweets and convert them to input tensors\n",
        "\n",
        "input_ids = [tokenizer.encode(tweet, add_special_tokens=True) for tweet in tweets]\n",
        "attention_masks = [[1] * len(input_id) for input_id in input_ids]\n",
        "\n",
        "# Set the maximum sequence length\n",
        "MAX_LEN = 256\n",
        "\n",
        "# Pad the input sequences\n",
        "input_ids = pad_sequences(input_ids, maxlen=MAX_LEN, dtype=\"long\", truncating=\"post\", padding=\"post\")\n",
        "attention_masks = pad_sequences(attention_masks, maxlen=MAX_LEN, dtype=\"long\", truncating=\"post\", padding=\"post\")\n",
        "\n",
        "# Create the input tensors\n",
        "inputs = TensorDataset(torch.tensor(input_ids), torch.tensor(attention_masks), torch.tensor(labels))\n",
        "\n",
        "# Split the dataset into train, validation, and test sets (80%/10%/10%)\n",
        "train_inputs, temp_inputs = train_test_split(inputs, test_size=0.2)\n",
        "val_inputs, test_inputs = train_test_split(temp_inputs, test_size=0.5)\n",
        "\n",
        "#Set the batch size and number of epochs\n",
        "batch_size = 32\n",
        "num_epochs = 5\n",
        "\n",
        "#Create the DataLoader for our training set\n",
        "train_dataloader = torch.utils.data.DataLoader(train_inputs, batch_size=batch_size, shuffle=True)\n",
        "\n",
        "#Create the DataLoader for our validation set\n",
        "val_dataloader = torch.utils.data.DataLoader(val_inputs, batch_size=batch_size, shuffle=True)\n",
        "\n",
        "#Create the DataLoader for our test set\n",
        "test_dataloader = torch.utils.data.DataLoader(test_inputs, batch_size=batch_size, shuffle=True)\n",
        "\n",
        "#Create the Adam optimizer\n",
        "optimizer = AdamW(model.parameters(), lr=2e-5, eps=1e-8)\n",
        "\n",
        "#Create the loss function\n",
        "criterion = CrossEntropyLoss()\n",
        "\n",
        "#Set the device to run on (CPU or GPU)\n",
        "device = torch.device( \"cpu\")\n",
        "\n",
        "#Move the model and data to the device\n",
        "model.to(device)\n",
        "for inputs, attention_masks, labels in train_dataloader:\n",
        "    inputs = inputs.to(device)\n",
        "    attention_masks = attention_masks.to(device)\n",
        "    labels = labels.to(device)\n",
        "\n",
        "\n",
        "#Train the model\n",
        "for epoch in range(num_epochs):\n",
        "  for inputs, attention_masks, labels in train_dataloader:\n",
        "    optimizer.zero_grad()\n",
        "    outputs = model(inputs, attention_masks)\n",
        "    loss = criterion(outputs[0], labels)\n",
        "    loss.backward()\n",
        "    optimizer.step()\n",
        "  #Validate the model\n",
        "  model.eval()\n",
        "  with torch.no_grad():\n",
        "    correct = 0\n",
        "    total = 0\n",
        "    true_label = []\n",
        "    pred_label = []\n",
        "    for inputs, attention_masks, labels in val_dataloader:\n",
        "      outputs = model(inputs, attention_masks)\n",
        "      _,predicted = torch.max(outputs.logits.data, 1)\n",
        "      total += labels.size(0)\n",
        "      correct += (predicted == labels).sum().item()\n",
        "      accuracy = correct / total\n",
        "      true_label.extend(labels.cpu().numpy())\n",
        "      pred_label.extend(predicted.cpu().numpy())\n",
        "      print(\"Validation Accuracy: {:.2f}%\".format(accuracy * 100))\n",
        "      # Calculate the confusion matrix\n",
        "      cm = confusion_matrix(true_label, pred_label, labels=[0,1])\n",
        "      print(\"Validation Confusion Matrix: \\n\", cm)\n",
        "     # Calculate the classification report\n",
        "      cr = classification_report(true_label, pred_label, labels=[0, 1], target_names=[\"negative\", \"positive / neutral\"])\n",
        "      print(\"Validation Classification Report: \\n\", cr)\n",
        "      # Calculate the f1 score \n",
        "      f1 = f1_score(true_label, pred_label, average='weighted')\n",
        "      print(\"Validation F1 Score: {:.2f}\".format(f1))\n",
        "\n",
        "\n",
        "    correct = 0\n",
        "    total = 0\n",
        "    true_label = []\n",
        "    pred_label = []\n",
        "    for inputs, attention_masks, labels in test_dataloader:\n",
        "      outputs = model(inputs, attention_masks)\n",
        "      _,predicted = torch.max(outputs.logits.data, 1)\n",
        "      total += labels.size(0)\n",
        "      correct += (predicted == labels).sum().item()\n",
        "      accuracy = correct / total\n",
        "      true_label.extend(labels.cpu().numpy())\n",
        "      pred_label.extend(predicted.cpu().numpy())\n",
        "      print(\"Test Accuracy: {:.2f}%\".format(accuracy * 100))\n",
        "      # Calculate the confusion matrix\n",
        "      cm = confusion_matrix(true_label, pred_label, labels=[0,1])\n",
        "      print(\"Test Confusion Matrix: \\n\", cm)\n",
        "     # Calculate the classification report\n",
        "      cr = classification_report(true_label, pred_label, labels=[0,1], target_names=[\"negative\", \"positive / neutral\"])\n",
        "      print(\"Test Classification Report: \\n\", cr)\n",
        "      # Calculate the f1 score \n",
        "      f1 = f1_score(true_label, pred_label, average='weighted')\n",
        "      print(\"Test F1 Score: {:.2f}\".format(f1))\n",
        "\n",
        "\n",
        "#Save the model\n",
        "torch.save(model.state_dict(), \"bert_model.pt\")"
      ],
      "metadata": {
        "colab": {
          "base_uri": "https://localhost:8080/"
        },
        "id": "FCWIz-QiX5EA",
        "outputId": "d56fc4e5-78e4-47d0-ac43-ed2fa6384c8a"
      },
      "execution_count": 4,
      "outputs": [
        {
          "output_type": "stream",
          "name": "stderr",
          "text": [
            "Some weights of the model checkpoint at bert-base-german-cased were not used when initializing BertForSequenceClassification: ['cls.predictions.transform.dense.bias', 'cls.predictions.decoder.weight', 'cls.predictions.transform.LayerNorm.weight', 'cls.predictions.transform.dense.weight', 'cls.predictions.bias', 'cls.predictions.transform.LayerNorm.bias', 'cls.seq_relationship.weight', 'cls.seq_relationship.bias']\n",
            "- This IS expected if you are initializing BertForSequenceClassification from the checkpoint of a model trained on another task or with another architecture (e.g. initializing a BertForSequenceClassification model from a BertForPreTraining model).\n",
            "- This IS NOT expected if you are initializing BertForSequenceClassification from the checkpoint of a model that you expect to be exactly identical (initializing a BertForSequenceClassification model from a BertForSequenceClassification model).\n",
            "Some weights of BertForSequenceClassification were not initialized from the model checkpoint at bert-base-german-cased and are newly initialized: ['classifier.weight', 'classifier.bias']\n",
            "You should probably TRAIN this model on a down-stream task to be able to use it for predictions and inference.\n",
            "/usr/local/lib/python3.8/dist-packages/transformers/optimization.py:306: FutureWarning: This implementation of AdamW is deprecated and will be removed in a future version. Use the PyTorch implementation torch.optim.AdamW instead, or set `no_deprecation_warning=True` to disable this warning\n",
            "  warnings.warn(\n"
          ]
        },
        {
          "output_type": "stream",
          "name": "stdout",
          "text": [
            "Validation Accuracy: 73.33%\n",
            "Validation Confusion Matrix: \n",
            " [[ 0  8]\n",
            " [ 0 22]]\n",
            "Validation Classification Report: \n",
            "                     precision    recall  f1-score   support\n",
            "\n",
            "          negative       0.00      0.00      0.00         8\n",
            "positive / neutral       0.73      1.00      0.85        22\n",
            "\n",
            "          accuracy                           0.73        30\n",
            "         macro avg       0.37      0.50      0.42        30\n",
            "      weighted avg       0.54      0.73      0.62        30\n",
            "\n",
            "Validation F1 Score: 0.62\n"
          ]
        },
        {
          "output_type": "stream",
          "name": "stderr",
          "text": [
            "/usr/local/lib/python3.8/dist-packages/sklearn/metrics/_classification.py:1318: UndefinedMetricWarning: Precision and F-score are ill-defined and being set to 0.0 in labels with no predicted samples. Use `zero_division` parameter to control this behavior.\n",
            "  _warn_prf(average, modifier, msg_start, len(result))\n",
            "/usr/local/lib/python3.8/dist-packages/sklearn/metrics/_classification.py:1318: UndefinedMetricWarning: Precision and F-score are ill-defined and being set to 0.0 in labels with no predicted samples. Use `zero_division` parameter to control this behavior.\n",
            "  _warn_prf(average, modifier, msg_start, len(result))\n",
            "/usr/local/lib/python3.8/dist-packages/sklearn/metrics/_classification.py:1318: UndefinedMetricWarning: Precision and F-score are ill-defined and being set to 0.0 in labels with no predicted samples. Use `zero_division` parameter to control this behavior.\n",
            "  _warn_prf(average, modifier, msg_start, len(result))\n"
          ]
        },
        {
          "output_type": "stream",
          "name": "stdout",
          "text": [
            "Test Accuracy: 80.00%\n",
            "Test Confusion Matrix: \n",
            " [[ 0  6]\n",
            " [ 0 24]]\n",
            "Test Classification Report: \n",
            "                     precision    recall  f1-score   support\n",
            "\n",
            "          negative       0.00      0.00      0.00         6\n",
            "positive / neutral       0.80      1.00      0.89        24\n",
            "\n",
            "          accuracy                           0.80        30\n",
            "         macro avg       0.40      0.50      0.44        30\n",
            "      weighted avg       0.64      0.80      0.71        30\n",
            "\n",
            "Test F1 Score: 0.71\n"
          ]
        },
        {
          "output_type": "stream",
          "name": "stderr",
          "text": [
            "/usr/local/lib/python3.8/dist-packages/sklearn/metrics/_classification.py:1318: UndefinedMetricWarning: Precision and F-score are ill-defined and being set to 0.0 in labels with no predicted samples. Use `zero_division` parameter to control this behavior.\n",
            "  _warn_prf(average, modifier, msg_start, len(result))\n",
            "/usr/local/lib/python3.8/dist-packages/sklearn/metrics/_classification.py:1318: UndefinedMetricWarning: Precision and F-score are ill-defined and being set to 0.0 in labels with no predicted samples. Use `zero_division` parameter to control this behavior.\n",
            "  _warn_prf(average, modifier, msg_start, len(result))\n",
            "/usr/local/lib/python3.8/dist-packages/sklearn/metrics/_classification.py:1318: UndefinedMetricWarning: Precision and F-score are ill-defined and being set to 0.0 in labels with no predicted samples. Use `zero_division` parameter to control this behavior.\n",
            "  _warn_prf(average, modifier, msg_start, len(result))\n"
          ]
        },
        {
          "output_type": "stream",
          "name": "stdout",
          "text": [
            "Validation Accuracy: 76.67%\n",
            "Validation Confusion Matrix: \n",
            " [[ 1  7]\n",
            " [ 0 22]]\n",
            "Validation Classification Report: \n",
            "                     precision    recall  f1-score   support\n",
            "\n",
            "          negative       1.00      0.12      0.22         8\n",
            "positive / neutral       0.76      1.00      0.86        22\n",
            "\n",
            "          accuracy                           0.77        30\n",
            "         macro avg       0.88      0.56      0.54        30\n",
            "      weighted avg       0.82      0.77      0.69        30\n",
            "\n",
            "Validation F1 Score: 0.69\n",
            "Test Accuracy: 83.33%\n",
            "Test Confusion Matrix: \n",
            " [[ 1  5]\n",
            " [ 0 24]]\n",
            "Test Classification Report: \n",
            "                     precision    recall  f1-score   support\n",
            "\n",
            "          negative       1.00      0.17      0.29         6\n",
            "positive / neutral       0.83      1.00      0.91        24\n",
            "\n",
            "          accuracy                           0.83        30\n",
            "         macro avg       0.91      0.58      0.60        30\n",
            "      weighted avg       0.86      0.83      0.78        30\n",
            "\n",
            "Test F1 Score: 0.78\n",
            "Validation Accuracy: 73.33%\n",
            "Validation Confusion Matrix: \n",
            " [[ 4  4]\n",
            " [ 4 18]]\n",
            "Validation Classification Report: \n",
            "                     precision    recall  f1-score   support\n",
            "\n",
            "          negative       0.50      0.50      0.50         8\n",
            "positive / neutral       0.82      0.82      0.82        22\n",
            "\n",
            "          accuracy                           0.73        30\n",
            "         macro avg       0.66      0.66      0.66        30\n",
            "      weighted avg       0.73      0.73      0.73        30\n",
            "\n",
            "Validation F1 Score: 0.73\n",
            "Test Accuracy: 86.67%\n",
            "Test Confusion Matrix: \n",
            " [[ 2  4]\n",
            " [ 0 24]]\n",
            "Test Classification Report: \n",
            "                     precision    recall  f1-score   support\n",
            "\n",
            "          negative       1.00      0.33      0.50         6\n",
            "positive / neutral       0.86      1.00      0.92        24\n",
            "\n",
            "          accuracy                           0.87        30\n",
            "         macro avg       0.93      0.67      0.71        30\n",
            "      weighted avg       0.89      0.87      0.84        30\n",
            "\n",
            "Test F1 Score: 0.84\n",
            "Validation Accuracy: 73.33%\n",
            "Validation Confusion Matrix: \n",
            " [[ 4  4]\n",
            " [ 4 18]]\n",
            "Validation Classification Report: \n",
            "                     precision    recall  f1-score   support\n",
            "\n",
            "          negative       0.50      0.50      0.50         8\n",
            "positive / neutral       0.82      0.82      0.82        22\n",
            "\n",
            "          accuracy                           0.73        30\n",
            "         macro avg       0.66      0.66      0.66        30\n",
            "      weighted avg       0.73      0.73      0.73        30\n",
            "\n",
            "Validation F1 Score: 0.73\n",
            "Test Accuracy: 83.33%\n",
            "Test Confusion Matrix: \n",
            " [[ 2  4]\n",
            " [ 1 23]]\n",
            "Test Classification Report: \n",
            "                     precision    recall  f1-score   support\n",
            "\n",
            "          negative       0.67      0.33      0.44         6\n",
            "positive / neutral       0.85      0.96      0.90        24\n",
            "\n",
            "          accuracy                           0.83        30\n",
            "         macro avg       0.76      0.65      0.67        30\n",
            "      weighted avg       0.81      0.83      0.81        30\n",
            "\n",
            "Test F1 Score: 0.81\n",
            "Validation Accuracy: 73.33%\n",
            "Validation Confusion Matrix: \n",
            " [[ 4  4]\n",
            " [ 4 18]]\n",
            "Validation Classification Report: \n",
            "                     precision    recall  f1-score   support\n",
            "\n",
            "          negative       0.50      0.50      0.50         8\n",
            "positive / neutral       0.82      0.82      0.82        22\n",
            "\n",
            "          accuracy                           0.73        30\n",
            "         macro avg       0.66      0.66      0.66        30\n",
            "      weighted avg       0.73      0.73      0.73        30\n",
            "\n",
            "Validation F1 Score: 0.73\n",
            "Test Accuracy: 83.33%\n",
            "Test Confusion Matrix: \n",
            " [[ 2  4]\n",
            " [ 1 23]]\n",
            "Test Classification Report: \n",
            "                     precision    recall  f1-score   support\n",
            "\n",
            "          negative       0.67      0.33      0.44         6\n",
            "positive / neutral       0.85      0.96      0.90        24\n",
            "\n",
            "          accuracy                           0.83        30\n",
            "         macro avg       0.76      0.65      0.67        30\n",
            "      weighted avg       0.81      0.83      0.81        30\n",
            "\n",
            "Test F1 Score: 0.81\n"
          ]
        }
      ]
    },
    {
      "cell_type": "code",
      "source": [
        "predicted_tweets = predict_sentiment(target_tweets,'text')"
      ],
      "metadata": {
        "id": "sEK8nW_2KI5j"
      },
      "execution_count": 26,
      "outputs": []
    },
    {
      "cell_type": "code",
      "source": [
        "predicted_tweets.to_csv(\"predicted_tweets_enhanced.csv\", index=False)"
      ],
      "metadata": {
        "id": "y7A7e-84bGR6"
      },
      "execution_count": 27,
      "outputs": []
    },
    {
      "cell_type": "code",
      "source": [
        "from google.colab import drive\n",
        "drive.mount('drive')"
      ],
      "metadata": {
        "colab": {
          "base_uri": "https://localhost:8080/"
        },
        "id": "aDXMz9EVdOLe",
        "outputId": "683fdb8d-7a94-400d-e00f-58a55fba200e"
      },
      "execution_count": 28,
      "outputs": [
        {
          "output_type": "stream",
          "name": "stdout",
          "text": [
            "Mounted at drive\n"
          ]
        }
      ]
    },
    {
      "cell_type": "code",
      "source": [
        "!cp bert_model_enahnced.pt \"drive/My Drive/\""
      ],
      "metadata": {
        "id": "bpcrGMUXlGRY"
      },
      "execution_count": 29,
      "outputs": []
    },
    {
      "cell_type": "code",
      "source": [],
      "metadata": {
        "id": "--pHefT1lUfI"
      },
      "execution_count": null,
      "outputs": []
    }
  ]
}