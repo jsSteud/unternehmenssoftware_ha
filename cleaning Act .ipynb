{
 "cells": [
  {
   "cell_type": "code",
   "execution_count": 5,
   "id": "4b45068c",
   "metadata": {},
   "outputs": [],
   "source": [
    "import pandas as pd \n",
    "import requests as r "
   ]
  },
  {
   "cell_type": "code",
   "execution_count": 6,
   "id": "5580e798",
   "metadata": {},
   "outputs": [],
   "source": [
    "df =pd.read_csv(r'csv/dataset.csv')"
   ]
  },
  {
   "cell_type": "code",
   "execution_count": 4,
   "id": "13b8d407",
   "metadata": {},
   "outputs": [
    {
     "data": {
      "text/html": [
       "<div>\n",
       "<style scoped>\n",
       "    .dataframe tbody tr th:only-of-type {\n",
       "        vertical-align: middle;\n",
       "    }\n",
       "\n",
       "    .dataframe tbody tr th {\n",
       "        vertical-align: top;\n",
       "    }\n",
       "\n",
       "    .dataframe thead th {\n",
       "        text-align: right;\n",
       "    }\n",
       "</style>\n",
       "<table border=\"1\" class=\"dataframe\">\n",
       "  <thead>\n",
       "    <tr style=\"text-align: right;\">\n",
       "      <th></th>\n",
       "      <th>Timestamp</th>\n",
       "      <th>Tweet</th>\n",
       "      <th>Hashtags</th>\n",
       "      <th>Tweet_ID</th>\n",
       "    </tr>\n",
       "  </thead>\n",
       "  <tbody>\n",
       "    <tr>\n",
       "      <th>0</th>\n",
       "      <td>2022-12-19 12:23:04+00:00</td>\n",
       "      <td>Frankreich\\nDisasi\\n#HisDarkMaterials\\nMbappe\\...</td>\n",
       "      <td>[{'text': 'HisDarkMaterials', 'indices': [18, ...</td>\n",
       "      <td>1604814571327430658</td>\n",
       "    </tr>\n",
       "    <tr>\n",
       "      <th>1</th>\n",
       "      <td>2022-12-19 12:21:50+00:00</td>\n",
       "      <td>https://t.co/phV4yzJToO\\nSchmuckstücke für gla...</td>\n",
       "      <td>[]</td>\n",
       "      <td>1604814261833945088</td>\n",
       "    </tr>\n",
       "    <tr>\n",
       "      <th>2</th>\n",
       "      <td>2022-12-19 12:20:01+00:00</td>\n",
       "      <td>Ein trauriger Abend für Kingsley #Coman! #wm20...</td>\n",
       "      <td>[{'text': 'Coman', 'indices': [33, 39]}, {'tex...</td>\n",
       "      <td>1604813805015506945</td>\n",
       "    </tr>\n",
       "    <tr>\n",
       "      <th>3</th>\n",
       "      <td>2022-12-19 12:16:12+00:00</td>\n",
       "      <td>#Tchouameni, #Coman und #KoloMuani sehen sich ...</td>\n",
       "      <td>[{'text': 'Tchouameni', 'indices': [0, 11]}, {...</td>\n",
       "      <td>1604812842976382976</td>\n",
       "    </tr>\n",
       "    <tr>\n",
       "      <th>4</th>\n",
       "      <td>2022-12-19 12:15:56+00:00</td>\n",
       "      <td>.\\n#Katar kolonialisiert den Westen:\\n\\nDeutli...</td>\n",
       "      <td>[{'text': 'Katar', 'indices': [2, 8]}, {'text'...</td>\n",
       "      <td>1604812777884815360</td>\n",
       "    </tr>\n",
       "  </tbody>\n",
       "</table>\n",
       "</div>"
      ],
      "text/plain": [
       "                   Timestamp  \\\n",
       "0  2022-12-19 12:23:04+00:00   \n",
       "1  2022-12-19 12:21:50+00:00   \n",
       "2  2022-12-19 12:20:01+00:00   \n",
       "3  2022-12-19 12:16:12+00:00   \n",
       "4  2022-12-19 12:15:56+00:00   \n",
       "\n",
       "                                               Tweet  \\\n",
       "0  Frankreich\\nDisasi\\n#HisDarkMaterials\\nMbappe\\...   \n",
       "1  https://t.co/phV4yzJToO\\nSchmuckstücke für gla...   \n",
       "2  Ein trauriger Abend für Kingsley #Coman! #wm20...   \n",
       "3  #Tchouameni, #Coman und #KoloMuani sehen sich ...   \n",
       "4  .\\n#Katar kolonialisiert den Westen:\\n\\nDeutli...   \n",
       "\n",
       "                                            Hashtags             Tweet_ID  \n",
       "0  [{'text': 'HisDarkMaterials', 'indices': [18, ...  1604814571327430658  \n",
       "1                                                 []  1604814261833945088  \n",
       "2  [{'text': 'Coman', 'indices': [33, 39]}, {'tex...  1604813805015506945  \n",
       "3  [{'text': 'Tchouameni', 'indices': [0, 11]}, {...  1604812842976382976  \n",
       "4  [{'text': 'Katar', 'indices': [2, 8]}, {'text'...  1604812777884815360  "
      ]
     },
     "execution_count": 4,
     "metadata": {},
     "output_type": "execute_result"
    }
   ],
   "source": [
    "df.head()"
   ]
  },
  {
   "cell_type": "code",
   "execution_count": 7,
   "id": "8b45916c",
   "metadata": {},
   "outputs": [
    {
     "data": {
      "text/plain": [
       "'2013-10-04 15:47:26+00:00'"
      ]
     },
     "execution_count": 7,
     "metadata": {},
     "output_type": "execute_result"
    }
   ],
   "source": [
    "min(df.Timestamp)"
   ]
  },
  {
   "cell_type": "markdown",
   "id": "3da8f93b",
   "metadata": {},
   "source": [
    "## cleaning the text "
   ]
  },
  {
   "cell_type": "code",
   "execution_count": 8,
   "id": "5985c01e",
   "metadata": {},
   "outputs": [],
   "source": [
    "text=df.Tweet"
   ]
  },
  {
   "cell_type": "code",
   "execution_count": 9,
   "id": "69168fdd",
   "metadata": {},
   "outputs": [
    {
     "data": {
      "text/plain": [
       "0    Frankreich\\nDisasi\\n#HisDarkMaterials\\nMbappe\\...\n",
       "1    https://t.co/phV4yzJToO\\nSchmuckstücke für gla...\n",
       "2    Ein trauriger Abend für Kingsley #Coman! #wm20...\n",
       "3    #Tchouameni, #Coman und #KoloMuani sehen sich ...\n",
       "4    .\\n#Katar kolonialisiert den Westen:\\n\\nDeutli...\n",
       "Name: Tweet, dtype: object"
      ]
     },
     "execution_count": 9,
     "metadata": {},
     "output_type": "execute_result"
    }
   ],
   "source": [
    "text.head()"
   ]
  },
  {
   "cell_type": "code",
   "execution_count": 22,
   "id": "2c8fac3b",
   "metadata": {},
   "outputs": [],
   "source": [
    "import re\n",
    "def clean_tweet(tweet):\n",
    "    # Remove hashtags, mentions, URLs, and emojis\n",
    "    tweet = re.sub(r'#\\w+', '', tweet)\n",
    "    tweet = re.sub(r'@\\w+', '', tweet)\n",
    "    tweet = re.sub(r'https?://\\S+', '', tweet)\n",
    "    tweet = re.sub(r'[^\\w\\s]', '', tweet)\n",
    "\n",
    "    # Remove extra whitespace\n",
    "    tweet = re.sub(r'\\s+', ' ', tweet)\n",
    "    \n",
    "    # Remove punctuation and special characters, except for ä, ö, ü, and ß\n",
    "    tweet = re.sub(r'[^a-zA-Z0-9äöüß\\s]', '', tweet)\n",
    "\n",
    "    # Convert to lowercase and remove extra white space\n",
    "    tweet = tweet.lower().strip()\n",
    "\n",
    "    # Return the text only\n",
    "    return tweet"
   ]
  },
  {
   "cell_type": "code",
   "execution_count": 23,
   "id": "05c24197",
   "metadata": {},
   "outputs": [],
   "source": [
    "cleaned_text=text.apply(clean_tweet)"
   ]
  },
  {
   "cell_type": "code",
   "execution_count": 24,
   "id": "f2d46556",
   "metadata": {},
   "outputs": [
    {
     "data": {
      "text/plain": [
       "0       frankreich disasi mbappe christmas infantino f...\n",
       "1       schmuckstücke für glanzvolle zeiten die elegan...\n",
       "2                        ein trauriger abend für kingsley\n",
       "3       und sehen sich nach dem verlorenen endspiel de...\n",
       "4       kolonialisiert den westen deutlich sichtbar ke...\n",
       "                              ...                        \n",
       "6581    tote gastarbeiter seit wmvergabe 15000 spieler...\n",
       "6582    fünfzehntausend tote menschen menschen mit fam...\n",
       "6583    wie die deutsche nationalmannschaft an dieser ...\n",
       "6584    liebes es ist lobenswert dass das thema rund u...\n",
       "6585    definitiv nicht angucken erste wm nur mit erge...\n",
       "Name: Tweet, Length: 6586, dtype: object"
      ]
     },
     "execution_count": 24,
     "metadata": {},
     "output_type": "execute_result"
    }
   ],
   "source": [
    "cleaned_text"
   ]
  },
  {
   "cell_type": "markdown",
   "id": "d67243ad",
   "metadata": {},
   "source": [
    "### removing duplicates "
   ]
  },
  {
   "cell_type": "code",
   "execution_count": 29,
   "id": "5de711a2",
   "metadata": {},
   "outputs": [
    {
     "data": {
      "text/plain": [
       "420"
      ]
     },
     "execution_count": 29,
     "metadata": {},
     "output_type": "execute_result"
    }
   ],
   "source": [
    "# duplictes count\n",
    "cleaned_text.count()-cleaned_text.nunique()"
   ]
  },
  {
   "cell_type": "code",
   "execution_count": 31,
   "id": "aedd2983",
   "metadata": {},
   "outputs": [],
   "source": [
    "cleaned_text=cleaned_text.drop_duplicates()"
   ]
  },
  {
   "cell_type": "code",
   "execution_count": 32,
   "id": "bca70bd1",
   "metadata": {},
   "outputs": [
    {
     "data": {
      "text/plain": [
       "0"
      ]
     },
     "execution_count": 32,
     "metadata": {},
     "output_type": "execute_result"
    }
   ],
   "source": [
    "# duplictes count\n",
    "cleaned_text.count()-cleaned_text.nunique()"
   ]
  },
  {
   "cell_type": "markdown",
   "id": "278e0c8b",
   "metadata": {},
   "source": [
    "## checking and removing null values "
   ]
  },
  {
   "cell_type": "code",
   "execution_count": 33,
   "id": "a40b858e",
   "metadata": {},
   "outputs": [
    {
     "data": {
      "text/plain": [
       "0"
      ]
     },
     "execution_count": 33,
     "metadata": {},
     "output_type": "execute_result"
    }
   ],
   "source": [
    "cleaned_text.isnull().sum()"
   ]
  },
  {
   "cell_type": "code",
   "execution_count": 38,
   "id": "adf0e320",
   "metadata": {},
   "outputs": [
    {
     "data": {
      "text/plain": [
       "False"
      ]
     },
     "execution_count": 38,
     "metadata": {},
     "output_type": "execute_result"
    }
   ],
   "source": [
    "cleaned_text.isnull().any()\n"
   ]
  },
  {
   "cell_type": "markdown",
   "id": "6d865edc",
   "metadata": {},
   "source": [
    "# saving the cleaned text into a csv file "
   ]
  },
  {
   "cell_type": "code",
   "execution_count": 37,
   "id": "7f0d1292",
   "metadata": {},
   "outputs": [],
   "source": [
    "cleaned_text.to_csv(r'csv/cleaned_dataset.csv', index= False, header=False)"
   ]
  },
  {
   "cell_type": "code",
   "execution_count": null,
   "id": "cd7f4916",
   "metadata": {},
   "outputs": [],
   "source": []
  }
 ],
 "metadata": {
  "kernelspec": {
   "display_name": "Python 3",
   "language": "python",
   "name": "python3"
  },
  "language_info": {
   "codemirror_mode": {
    "name": "ipython",
    "version": 3
   },
   "file_extension": ".py",
   "mimetype": "text/x-python",
   "name": "python",
   "nbconvert_exporter": "python",
   "pygments_lexer": "ipython3",
   "version": "3.8.8"
  }
 },
 "nbformat": 4,
 "nbformat_minor": 5
}
